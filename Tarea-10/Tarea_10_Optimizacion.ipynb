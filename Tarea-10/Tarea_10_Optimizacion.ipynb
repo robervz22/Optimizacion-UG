{
 "cells": [
  {
   "cell_type": "markdown",
   "id": "520f90ed-b60b-4550-a107-62d92f388c77",
   "metadata": {},
   "source": [
    "# Ejercicio 1 (4 puntos)\n",
    "\n",
    "1. Escriba la descripción del tema para el proyecto final del curso.\n",
    "2. La descripción no tiene que ser detallada. Sólo debe quedar claro cual\n",
    "   el problema que quiere resolver, si ya cuentan con la información para resolver\n",
    "   el problema (datos, referencia bibliográfica, etc.)\n",
    "3. Mencione el tipo de pruebas que va a realizar y la manera en que va a validar los resultados.\n",
    "4. En la semana de 16 de mayo recibirá un mensaje que indica si el tema\n",
    "   fue aceptado o necesita precisar algo o cambiarlo.\n"
   ]
  },
  {
   "cell_type": "markdown",
   "id": "cb87bcab-0962-49a9-a4c0-d1b69ff8f7cc",
   "metadata": {},
   "source": [
    "## Descripción del proyecto\n",
    "\n",
    "A continuación, describiré los componentes principales de mi propuesta de Proyecto Final para el curso de Optimización. \n",
    "\n",
    "**Título:** Optimización en el caso no diferenciable: Subdiferenciales.\n",
    "\n",
    "El propósito del proyecto será dar una introducción al caso de optimización cuando la función objetivo $f$ es continua pero no diferenciable. El caso en el cual $f\\in C^1$ o $f\\in C^2$ se discutió en el curso con los métodos Newton/Quasi-Newton y de búsqueda en línea. \n",
    "\n",
    "En primer lugar, generalizaremos el concepto de gradiente al de *subgradiente* o subdiferencial en el caso cuando $f$ es una función convexa. Se pretende desarrollar un poco de teoría de esta generalización y probar la condición de optimalidad en términos de subdiferenciales.  \n",
    "\n",
    "Para ilustrar el problema de optimización en el caso no diferenciable proponemos resolver el problema de regresión LASSO. Este problema se puede resolver utilizando *descenso por coordenadas* y se pueden verificar las condiciones de optimalidad usando el subdiferencial de la función objetivo LASSO. Además, presentaremos el caso particular con un solo predictor para determinar la solución LASSO a través de subdiferenciales. \n",
    "\n",
    "Para el caso multipredictores utilizaremos el conjunto de datos  *crime data: crime rate and five predictors* tomado del libro *Statistical Learning with Sparsity: The LASSO and Generalizations*. \n",
    "\n",
    "La teoría sobre cálculo subdiferencial será tomada del libro *Convex Analysis and Minimization Algorithms I: Fundamentals*."
   ]
  },
  {
   "cell_type": "markdown",
   "id": "70b9bc7d-077d-4d9a-866b-d7d379d4c3ca",
   "metadata": {},
   "source": [
    "# Ejercicio 2 (3 puntos)\n",
    "\n",
    "Considere el ejemplo visto en clase:\n",
    "\n",
    "$$\n",
    "\\begin{array}{rl}\n",
    "\\max & x_1 + x_2\\\\\n",
    "     & 50x_1 + 24x_2 \\leq 2400 \\\\\n",
    "     & 30x_1 + 33x_2 \\leq 2100 \\\\\n",
    "     & x_1 \\geq 45 \\\\\n",
    "     & x_2 \\geq 5\n",
    "\\end{array}\n",
    "$$\n",
    "\n",
    "Vimos que se puede escribir en forma estándar como:\n",
    "\n",
    "$$\n",
    "\\begin{array}{rl}\n",
    "\\min & -x_1 - x_2\\\\\n",
    "     & 50x_1 + 24x_2 + x_3 =  2400 \\\\\n",
    "     & 30x_1 + 33x_2 + x_4 =  2100 \\\\\n",
    "     & x_1 - x_5 = 45 \\\\\n",
    "     & x_2 - x_6 =  5 \\\\\n",
    "     & x_1, x_2, x_3, x_4, x_5, x_6 \\geq 0\n",
    "\\end{array}\n",
    "$$\n",
    "\n",
    "Puede usar el código del Notebook **ejemploPuntosBasicosFactibles.ipynb** \n",
    "para obtener la solución $\\mathbf{x}_*$ del problema en forma estándar.\n",
    "\n",
    "Las condiciones KKT son:\n",
    "\n",
    "$$\n",
    "\\begin{array}{rclc}\n",
    "  \\mathbf{A}^\\top \\mathbf{\\lambda} + \\mathbf{s} &=& \\mathbf{c}, & (1) \\\\\n",
    "  \\mathbf{A}\\mathbf{x} &=& \\mathbf{b}, & (2) \\\\\n",
    "  \\mathbf{x} & \\geq & \\mathbf{0}, & (3)  \\\\\n",
    "  \\mathbf{s} & \\geq & \\mathbf{0}, & (4)  \\\\\n",
    "  x_i s_i &=& 0, \\qquad i=1,2,...,n. & (5)\n",
    "\\end{array}\n",
    "$$\n",
    "\n",
    "Debe ser claro que por la manera en que se calculó $\\mathbf{x}_*$ en el ejemplo\n",
    "de la clase, se cumplen las condiciones (2) y (3).\n",
    "\n",
    "1. Dado $\\mathbf{x}_*$ y por la condición de complementaridad (5), sabemos cuáles son las componentes \n",
    "   de $\\mathbf{s}$ que son cero y cuáles deben ser calculadas. \n",
    "   Use eso y la condición (1) para calcular $\\mathbf{\\lambda}$ y las componentes\n",
    "   de $\\mathbf{s}$ desconocidas.\n",
    "   Imprima los vectores $\\mathbf{\\lambda}$ y $\\mathbf{s}$.\n",
    "2. Verique que se cumplen la condiciones (4) y (5), y con esto se comprueba\n",
    "   que $\\mathbf{x}_*$ es solución del problema estándar.\n",
    "3. Calcule el valor \n",
    "\n",
    "$$\\mathbf{b}^\\top \\lambda $$\n",
    "\n",
    "   y compare este valor con el\n",
    "   valor de la función objetivo $\\mathbf{c}^\\top \\mathbf{x}_*$.\n",
    "\n",
    "### Solución: "
   ]
  },
  {
   "cell_type": "code",
   "execution_count": 14,
   "id": "78960c8d-5430-41ea-bda0-f00bf4f38cd0",
   "metadata": {},
   "outputs": [
    {
     "name": "stdout",
     "output_type": "stream",
     "text": [
      "Número de combinaciones: 15\n",
      "4890.1   -50.0|    45.00     5.00    30.00   585.00     0.00     0.00| Factible\n",
      "2175.8   -69.5|    64.50     5.00  -945.00     0.00    19.50     0.00| No factible\n",
      "1975.8   -67.7|    45.00    22.73  -395.45     0.00     0.00    17.73| No factible\n",
      "1305.9   -50.6|    45.60     5.00     0.00   567.00     0.60     0.00| Factible\n",
      "2720.9   -51.2|    45.00     6.25     0.00   543.75     0.00     1.25| Factible\n",
      "  70.1   -66.5|    30.97    35.48     0.00     0.00   -14.03    30.48| No factible\n",
      "Es casi singular la matriz B con columnas [0, 2, 3, 4]\n",
      "3402.0   -45.0|    45.00     0.00   150.00   750.00     0.00    -5.00| No factible\n",
      " 113.4   -70.0|    70.00     0.00 -1100.00     0.00    25.00    -5.00| No factible\n",
      "  68.0   -48.0|    48.00     0.00     0.00   660.00     3.00    -5.00| No factible\n",
      "1667.0    -5.0|     0.00     5.00  2280.00  1935.00   -45.00     0.00| No factible\n",
      "Es casi singular la matriz B con columnas [1, 2, 3, 5]\n",
      "  50.5   -63.6|     0.00    63.64   872.73     0.00   -45.00    58.64| No factible\n",
      "  69.4  -100.0|     0.00   100.00     0.00 -1200.00   -45.00    95.00| No factible\n",
      "   1.0     0.0|     0.00     0.00  2400.00  2100.00   -45.00    -5.00| No factible\n",
      "\n",
      "Solución del problema estándar:\n",
      "x*= [ 45.     6.25   0.   543.75   0.     1.25]\n",
      "Valor de la función objetivo en x*= -51.25\n"
     ]
    }
   ],
   "source": [
    "# Pongo el codigo para obtener la solución x que calculamos en clase\n",
    "\n",
    "import numpy as np\n",
    "from itertools import combinations\n",
    "\n",
    "c = np.array([-1, -1, 0, 0, 0, 0 ])\n",
    "b = np.array([2400, 2100, 45, 5])\n",
    "A = np.array([[50, 24, 1, 0, 0, 0],\n",
    "              [30, 33, 0, 1, 0, 0],\n",
    "              [ 1,  0, 0, 0,-1, 0],\n",
    "              [ 0,  1, 0, 0, 0,-1] ])\n",
    "\n",
    "m,n = A.shape\n",
    "comb = list(combinations(list(range(n)), m))\n",
    "print('Número de combinaciones:', len(comb))\n",
    "\n",
    "dmin = None\n",
    "for icols in comb:\n",
    "    # Indices de las columnas seleccionadas\n",
    "    jj = list(icols)\n",
    "    # Matriz básica\n",
    "    B     = A[:, jj]\n",
    "    condB = np.linalg.cond(B)\n",
    "    if condB>1.0e14:\n",
    "        print('Es casi singular la matriz B con columnas', jj)\n",
    "    else:\n",
    "        # Solucion del sistema B*x=b\n",
    "        xb = np.linalg.solve(B, b)\n",
    "        # Solucion del problema en forma estándar\n",
    "        x     = np.zeros(n)\n",
    "        x[jj] = xb\n",
    "        # Evaluación de la función objetivo\n",
    "        f = np.vdot(c, x)\n",
    "        # Se revisa si es vector x es factible. Claramente se cumple que A*x=b,\n",
    "        # pero hay que verificar que x>=0.\n",
    "        smsg  = 'No factible'\n",
    "        bfact = False \n",
    "        if sum(x>=0)==len(x):\n",
    "            bfact = True\n",
    "            smsg  = 'Factible'\n",
    "        if bfact:\n",
    "            # Si x es factible, almacenamos en xsol el punto x donde f es mínima\n",
    "            if dmin==None:\n",
    "                dmin = f\n",
    "                xsol = x.copy()\n",
    "            elif dmin>f:\n",
    "                dmin = f\n",
    "                xsol = x.copy()\n",
    "        print(\"%6.1f %7.1f| % 8.2f % 8.2f % 8.2f % 8.2f % 8.2f % 8.2f| %s\" % (condB, \n",
    "                          f,  x[0], x[1], x[2], x[3], x[4], x[5], smsg))\n",
    "        \n",
    "# Fijamos una tolerancia y hacemos cero las componentes de x que son menores que la tolerancia        \n",
    "tol = (np.finfo(float).eps)**(3.0/4)\n",
    "ii  = np.where(xsol<tol)[0]\n",
    "xsol[ii] = 0.0\n",
    "\n",
    "print('\\nSolución del problema estándar:')\n",
    "print('x*=', xsol)\n",
    "print('Valor de la función objetivo en x*=', dmin)\n"
   ]
  },
  {
   "cell_type": "markdown",
   "id": "af2b7e23",
   "metadata": {},
   "source": [
    "Para hallar $\\mathbf{\\lambda} \\in\\mathbb{R}^m$ y $\\mathbf{s}\\in\\mathbf{\\lambda}\\mathbb{R}^n$ donde $\\mathbf{A}=[A_1,\\dots,A_n]\\in\\mathbb{R}^{n\\times m}$ debemos recurrir a las condiciones KKT. Hemos visto en clase que estas son necesarias y suficientes para que $\\mathbf{x}_\\ast$ sea óptimo local. \n",
    "\n",
    "Como se deben satisfacer las condiciones de (1) a (5) para la solución óptima $\\mathbf{x}_\\ast$ encontrada en la celda de código anterior, si $\\mathbf{B}$ es la matriz básica asociada a la base $\\mathcal{B}$ de la solución encontrada entonces \n",
    "\n",
    "$$\\mathbf{B}^T\\mathbf{\\lambda}=\\widetilde{\\mathbf{c}},$$\n",
    "\n",
    "donde $\\widetilde{\\mathbf{c}}=[c_i]_{i\\in\\mathcal{B}}$, pues por la condición de complementariedad $s_i=0$ para $i\\in\\mathcal{B}$.\n",
    "\n",
    "Por lo tanto, para calcular $\\mathbf{\\lambda}$ basta resolver el sistema de ecuaciones $\\mathbf{B}^T\\mathbf{\\lambda}=\\widetilde{\\mathbf{c}}$.\n",
    "\n",
    "Por otro lado, para hallar $\\mathbf{s}$, otra vez por la condición de complementariedad basta con encontrar $\\widehat{\\mathbf{s}}=[s_i]_{i\\not\\in\\mathcal{B}}$. Si $\\mathbf{N}=[A_i]_{i\\not\\in \\mathcal{B}}$ entonces por (1) se debe cumplir que \n",
    "\n",
    "$$ \\widehat{\\mathbf{s}}=\\widehat{\\mathbf{c}}-\\mathbf{N}^T\\mathbf{\\lambda},$$\n",
    "\n",
    "donde $\\widehat{\\mathbf{c}}=[c_i]_{i\\not\\in\\mathcal{B}}$.\n",
    "\n",
    "A continuación, calculamos $\\mathbf{\\lambda}$ y $\\mathbf{s}$ con lo antes descrito."
   ]
  },
  {
   "cell_type": "code",
   "execution_count": 15,
   "id": "04f90793-e5e8-4d27-978e-1d401d2267d6",
   "metadata": {},
   "outputs": [
    {
     "name": "stdout",
     "output_type": "stream",
     "text": [
      "El vecto lambda es:  [-0.0417  0.      1.0833 -0.    ]\n"
     ]
    }
   ],
   "source": [
    "# Solucion del ejercicio\n",
    "\n",
    "np.set_printoptions(precision=4)\n",
    "\n",
    "\n",
    "jj=list(np.squeeze(np.where(xsol>0)))\n",
    "B=A[:,jj]\n",
    "tilde_c=c[jj]\n",
    "# B.T*lamb=tilde_c\n",
    "lamb=np.linalg.solve(B.T,tilde_c)\n",
    "print('El vecto lambda es: ',lamb)"
   ]
  },
  {
   "cell_type": "markdown",
   "id": "c172d3ea",
   "metadata": {},
   "source": [
    "Como $\\mathbf{s}$ corresponde a los multiplicadores de Lagrange de las reestricciones de desigualdad $(\\mathbf{x}\\geq 0)$ entonces esperamos que $\\mathbf{s}\\geq 0$. Sabemos $s_i=0$ para $i\\in\\mathcal{B}$, en la siguiente celda de código calculamos $\\hat{\\mathbf{s}}$ que corresponde a las entradas del vector $\\mathbf{s}$ no básicas."
   ]
  },
  {
   "cell_type": "code",
   "execution_count": 16,
   "id": "f0cc12f6",
   "metadata": {},
   "outputs": [
    {
     "name": "stdout",
     "output_type": "stream",
     "text": [
      "El valor del vector s es:  [0.     0.     0.0417 0.     1.0833 0.    ]\n"
     ]
    }
   ],
   "source": [
    "s=np.zeros(A.shape[1])\n",
    "jj_complement=list(np.squeeze(np.where(xsol==0)))\n",
    "N=A[:,jj_complement]\n",
    "hat_c=c[jj_complement]\n",
    "# hat_s=c_hat-N.T*lamb\n",
    "hat_s=hat_c-N.T@lamb\n",
    "s[jj_complement]=hat_s\n",
    "print('El valor del vector s es: ',s)"
   ]
  },
  {
   "cell_type": "markdown",
   "id": "4b16bde3",
   "metadata": {},
   "source": [
    "A partir de estos resultados es claro que se cumplen las condiciones KKT.\n",
    "\n",
    "Finalmente, para el númeral 3 ejecutamos la siguiente celda de código."
   ]
  },
  {
   "cell_type": "code",
   "execution_count": 17,
   "id": "610cf410",
   "metadata": {},
   "outputs": [
    {
     "name": "stdout",
     "output_type": "stream",
     "text": [
      "Valor de b.T lambda:  -51.25000000000001\n",
      "Valor de c.T x_ast:  -51.25\n"
     ]
    }
   ],
   "source": [
    "print('Valor de b.T lambda: ',np.vdot(b,lamb))\n",
    "print('Valor de c.T x_ast: ',np.vdot(c,xsol))"
   ]
  },
  {
   "cell_type": "markdown",
   "id": "daf2ce03",
   "metadata": {},
   "source": [
    "Vemos que el valor es el mismo, debido a que el valor $b^T\\lambda$ corresponde a la función objetivo del problema dual. "
   ]
  },
  {
   "cell_type": "markdown",
   "id": "49b499ca",
   "metadata": {},
   "source": [
    "Por otro lado, probaremos la librería `pulp` para resolver el mismo de problema de programación lineal. El modelo descrito matemáticamente los describimos es el siguiente"
   ]
  },
  {
   "cell_type": "code",
   "execution_count": 18,
   "id": "fb36ee48",
   "metadata": {},
   "outputs": [
    {
     "name": "stdout",
     "output_type": "stream",
     "text": [
      "small-problem:\n",
      "MAXIMIZE\n",
      "1*x1 + 1*x2 + 0\n",
      "SUBJECT TO\n",
      "R1: 50 x1 + 24 x2 <= 2400\n",
      "\n",
      "R2: 30 x1 + 33 x2 <= 2100\n",
      "\n",
      "VARIABLES\n",
      "45 <= x1 Continuous\n",
      "5 <= x2 Continuous\n",
      "\n"
     ]
    }
   ],
   "source": [
    "from pulp import LpMaximize, LpProblem, LpStatus, lpSum, LpVariable\n",
    "\n",
    "# Creacción de una instancia de la  clase \n",
    "model = LpProblem(name=\"small-problem\", sense=LpMaximize)\n",
    "\n",
    "# Variables de decisión\n",
    "x1 = LpVariable(name=\"x1\", lowBound=45)\n",
    "x2 = LpVariable(name=\"x2\", lowBound=5)\n",
    "\n",
    "# Se agregan las restricciones del modelo\n",
    "model += (50*x1 + 24*x2  <= 2400, \"R1\")\n",
    "model += (30*x1 + 33*x2  <= 2100, \"R2\")\n",
    "\n",
    "# Función objetivo\n",
    "model += x1+x2\n",
    "\n",
    "print(model)\n"
   ]
  },
  {
   "cell_type": "markdown",
   "id": "82971906",
   "metadata": {},
   "source": [
    "Y la solución es "
   ]
  },
  {
   "cell_type": "code",
   "execution_count": 19,
   "id": "a99a0f4f",
   "metadata": {},
   "outputs": [
    {
     "name": "stdout",
     "output_type": "stream",
     "text": [
      "Resultado:  1  |  Optimal\n",
      "Valor de la funciónn objetivo:  51.25\n",
      "Solución:\n",
      "        x1: 45.000000\n",
      "        x2: 6.250000\n",
      "\n",
      "Variables de holgura:\n",
      "        R1: 0.000000\n",
      "        R2: -543.750000\n"
     ]
    }
   ],
   "source": [
    "# Cálculo de la solución\n",
    "from pulp import PULP_CBC_CMD\n",
    "\n",
    "status = model.solve(PULP_CBC_CMD(msg=False))\n",
    "\n",
    "print(\"Resultado: \", model.status, \" | \", LpStatus[model.status])\n",
    "\n",
    "print(\"Valor de la funciónn objetivo: \" , model.objective.value())\n",
    "\n",
    "\n",
    "print('Solución:')\n",
    "for var in model.variables():\n",
    "    print(\"%10s: %f\"  % (var.name, var.value()) )\n",
    "\n",
    "print('\\nVariables de holgura:')\n",
    "for name, constraint in model.constraints.items():\n",
    "    print(\"%10s: %f\" % (name, constraint.value()) )\n"
   ]
  },
  {
   "cell_type": "markdown",
   "id": "6e026427",
   "metadata": {},
   "source": [
    "Que coincide con el resultado obtenido con el código visto en clase"
   ]
  },
  {
   "cell_type": "markdown",
   "id": "cf9a7233-615c-409e-a412-fc2c4d2f4736",
   "metadata": {},
   "source": [
    "# Ejercicio 3 (3 puntos)\n",
    "\n",
    "Considere el problema \n",
    "\n",
    "$$\n",
    "\\begin{array}{rl}\n",
    "\\min & x_1 + 2x_2 + x_3 + x_4\\\\\n",
    "\\text{sujeto a}  & 2x_1 +  x_2 + 3 x_3 +  x_4 \\leq 8  \\\\\n",
    "                 & 2x_1 + 3x_2 +         4x_4 \\leq 12 \\\\\n",
    "                 & 3x_1 +  x_2 + 2 x_3        \\leq 18 \\\\\n",
    "                 & x_1, x_2, x_3, x_4 \\geq 0\n",
    "\\end{array}\n",
    "$$\n",
    "\n",
    "1. Escriba el problema en su forma estándar.\n",
    "2. Construya los vectores $\\mathbf{c}, \\mathbf{b}$ y la matriz $\\mathbf{A}$\n",
    "   del problema estándar y calcule la solución $\\mathbf{x}_*$ del problema.\n",
    "   Puede usar el código anterior.\n",
    "3. Calcule los vectores  $\\mathbf{\\lambda}$ y $\\mathbf{s}$ y \n",
    "   verique que se cumplen la condiciones (4) y (5), y con esto se comprueba\n",
    "   que $\\mathbf{x}_*$ es solución del problema estándar.\n",
    "4. Calcule el valor \n",
    "\n",
    "$$\\mathbf{b}^\\top \\lambda $$\n",
    "\n",
    "   y compare este valor con el\n",
    "   valor de la función objetivo $\\mathbf{c}^\\top \\mathbf{x}_*$.\n",
    "   \n",
    "### Solución:\n",
    "\n",
    "En este caso, lo que haremos será resolver el problema de optimización \n",
    "\n",
    "$$\\max\\{x_1+2x_2+x_3+x_4\\},$$ \n",
    "\n",
    "pues el problema de minimización con las restricciones proporcionadas tiene como solución la trivial $x_1=x_2=x_3=x_4=0$. \n",
    "\n",
    "El problema de maximización sujeto a las mismas reestricciones equivale a resolver $\\min\\{-x_1-2x_2-x_3-x_4\\}$ con las mismas restricciones."
   ]
  },
  {
   "cell_type": "markdown",
   "id": "b29009cf",
   "metadata": {},
   "source": [
    "En primer lugar, escribiremos el problema en forma estándar. Como $x_i\\geq 0$ para $i=1,2,3,4$ para obtener la forma estándar podemos ignorar el vector con componentes $x_i^{-}$ (la parte negativa) pues esta es $0$ bajo estas restricciones de positividad.\n",
    "\n",
    "Por lo tanto, solo consideramos las variables de holgura no negativas $x_5,x_6,x_7$ de forma que se quiere resoler el siguiente problema de optimización\n",
    "\n",
    "$$\n",
    "\\begin{array}{rl}\n",
    "\\min & -x_1 - 2x_2 - x_3 - x_4\\\\\n",
    "\\text{sujeto a}  & 2x_1 +  x_2 + 3 x_3 +  x_4 +x_5 = 8  \\\\\n",
    "                 & 2x_1 + 3x_2 +         4x_4 +x_6 = 12 \\\\\n",
    "                 & 3x_1 +  x_2 + 2 x_3        +x_7 =  18 \\\\\n",
    "                 & x_1, x_2, x_3, x_4,x_5,x_6,x_7\\geq 0\n",
    "\\end{array}\n",
    "$$\n",
    "\n",
    "Si\n",
    "$$A=\\begin{pmatrix*}\n",
    "2 & 1& 3& 1& 1& 0 &0 \\\\\n",
    "2 & 3& 0& 4& 0& 1& 0 \\\\\n",
    "3 & 1& 2& 0& 0& 0& 1\n",
    "\\end{pmatrix*},$$\n",
    "\n",
    "$\\mathbf{x}=(x_1,x_2,x_3,x_4,x_5,x_6,x_7)^T$, $\\mathbf{b}=(8,12,18)^T$ y\n",
    "$$\n",
    " \\mathbf{c}=(-1,-2,-1,-1,0,0,0),\n",
    "$$\n",
    "\n",
    "entonces el problema de programación lineal en forma estándar que debemos resolver es \n",
    "$$ \\min \\mathbf{c}^T\\mathbf{x}\\text{  sujeto a }A\\mathbf{x}=\\mathbf{b}\\text{ y }\\mathbf{x}\\geq 0$$"
   ]
  },
  {
   "cell_type": "markdown",
   "id": "226a67b3",
   "metadata": {},
   "source": [
    "Para poder obtener los vectores $\\mathbf{\\lambda}$ y $\\mathbf{s}$ de multiplicadores de Lagrange es necesario tener la matriz básica $\\mathbf{B}$ y por supuesto, tener identificadas las variables básicas y no básicas del problema de programación lineal. \n",
    "\n",
    "Utilizamos el mismo código que en el ejercicio 2 para obtener la solución de este problema ya que tenemos la forma estándar."
   ]
  },
  {
   "cell_type": "code",
   "execution_count": 21,
   "id": "033ab726",
   "metadata": {},
   "outputs": [
    {
     "name": "stdout",
     "output_type": "stream",
     "text": [
      "Número de combinaciones: 35\n",
      "   6.8    -3.2|     7.85    -1.23    -2.15     0.00     0.00     0.00     0.00| No factible\n",
      "  33.8   -23.3|     0.67    16.00     0.00    -9.33     0.00     0.00     0.00| No factible\n",
      "   6.0    -6.0|     6.00     0.00     0.00     0.00    -4.00     0.00     0.00| No factible\n",
      "  45.7    14.0|    10.00   -12.00     0.00     0.00     0.00    28.00     0.00| No factible\n",
      "  11.2    -7.0|     3.00     2.00     0.00     0.00     0.00     0.00     7.00| Factible\n",
      "   4.9    -4.7|     7.33     0.00    -2.00    -0.67     0.00     0.00     0.00| No factible\n",
      "  12.4    -6.0|     6.00     0.00     0.00     0.00    -4.00     0.00     0.00| No factible\n",
      "  10.2    -5.2|     7.60     0.00    -2.40     0.00     0.00    -3.20     0.00| No factible\n",
      "   7.9    -4.7|     6.00     0.00    -1.33     0.00     0.00     0.00     2.67| No factible\n",
      "   6.0    -6.0|     6.00     0.00     0.00     0.00    -4.00     0.00     0.00| No factible\n",
      "  24.9    -2.0|     6.00     0.00     0.00    -4.00     0.00    16.00     0.00| No factible\n",
      "  12.5    -4.7|     3.33     0.00     0.00     1.33     0.00     0.00     8.00| Factible\n",
      "   5.8    -6.0|     6.00     0.00     0.00     0.00    -4.00     0.00     0.00| No factible\n",
      "   8.9    -6.0|     6.00     0.00     0.00     0.00    -4.00     0.00    -0.00| No factible\n",
      "   8.9    -4.0|     4.00     0.00     0.00     0.00     0.00     4.00     6.00| Factible\n",
      "   9.9   -25.2|     0.00    17.60     0.20   -10.20     0.00     0.00     0.00| No factible\n",
      "   7.8   -15.0|     0.00     4.00     7.00     0.00   -17.00     0.00     0.00| No factible\n",
      "  48.0   -66.0|     0.00    38.00   -10.00     0.00     0.00  -102.00     0.00| No factible\n",
      "   5.1    -9.3|     0.00     4.00     1.33     0.00     0.00     0.00    11.33| Factible\n",
      "   6.9   -25.5|     0.00    18.00     0.00   -10.50     0.50     0.00     0.00| No factible\n",
      "  23.5   -26.0|     0.00    18.00     0.00   -10.00     0.00    -2.00     0.00| No factible\n",
      "  34.8   -28.0|     0.00    20.00     0.00   -12.00     0.00     0.00    -2.00| No factible\n",
      "  11.9   -36.0|     0.00    18.00     0.00     0.00   -10.00   -42.00     0.00| No factible\n",
      "   3.7    -8.0|     0.00     4.00     0.00     0.00     4.00     0.00    14.00| Factible\n",
      "  11.9   -16.0|     0.00     8.00     0.00     0.00     0.00   -12.00    10.00| No factible\n",
      "   8.1   -12.0|     0.00     0.00     9.00     3.00   -22.00     0.00     0.00| No factible\n",
      "  33.0    10.0|     0.00     0.00     9.00   -19.00     0.00    88.00     0.00| No factible\n",
      "   5.3    -4.7|     0.00     0.00     1.67     3.00     0.00     0.00    14.67| Factible\n",
      "   6.9    -9.0|     0.00     0.00     9.00     0.00   -19.00    12.00     0.00| No factible\n",
      "Es casi singular la matriz B con columnas [2, 4, 6]\n",
      "   4.4    -2.7|     0.00     0.00     2.67     0.00     0.00    12.00    12.67| Factible\n",
      "Es casi singular la matriz B con columnas [3, 4, 5]\n",
      "   4.3    -3.0|     0.00     0.00     0.00     3.00     5.00     0.00    18.00| Factible\n",
      "  17.9    -8.0|     0.00     0.00     0.00     8.00     0.00   -20.00    18.00| No factible\n",
      "   1.0     0.0|     0.00     0.00     0.00     0.00     8.00    12.00    18.00| Factible\n",
      "\n",
      "Solución del problema estándar:\n",
      "x*= [ 0.      4.      1.3333  0.      0.      0.     11.3333]\n",
      "Valor de la función objetivo en x*= -9.333333333333334\n"
     ]
    }
   ],
   "source": [
    "c = np.array([-1, -2, -1, -1, 0, 0 ,0])\n",
    "b = np.array([8, 12, 18])\n",
    "A = np.array([[2, 1, 3, 1, 1, 0, 0],\n",
    "              [2, 3, 0, 4, 0, 1, 0],\n",
    "              [3, 1, 2, 0, 0, 0, 1]])\n",
    "\n",
    "m,n = A.shape\n",
    "comb = list(combinations(list(range(n)), m))\n",
    "print('Número de combinaciones:', len(comb))\n",
    "\n",
    "dmin = None\n",
    "for icols in comb:\n",
    "    # Indices de las columnas seleccionadas\n",
    "    jj = list(icols)\n",
    "    # Matriz básica\n",
    "    B     = A[:, jj]\n",
    "    condB = np.linalg.cond(B)\n",
    "    if condB>1.0e14:\n",
    "        print('Es casi singular la matriz B con columnas', jj)\n",
    "    else:\n",
    "        # Solucion del sistema B*x=b\n",
    "        xb = np.linalg.solve(B, b)\n",
    "        # Solucion del problema en forma estándar\n",
    "        x     = np.zeros(n)\n",
    "        x[jj] = xb\n",
    "        # Evaluación de la función objetivo\n",
    "        f = np.vdot(c, x)\n",
    "        # Se revisa si es vector x es factible. Claramente se cumple que A*x=b,\n",
    "        # pero hay que verificar que x>=0.\n",
    "        smsg  = 'No factible'\n",
    "        bfact = False \n",
    "        if sum(x>=0)==len(x):\n",
    "            bfact = True\n",
    "            smsg  = 'Factible'\n",
    "        if bfact:\n",
    "            # Si x es factible, almacenamos en xsol el punto x donde f es mínima\n",
    "            if dmin==None:\n",
    "                dmin = f\n",
    "                xsol = x.copy()\n",
    "            elif dmin>f:\n",
    "                dmin = f\n",
    "                xsol = x.copy()\n",
    "        print(\"%6.1f %7.1f| % 8.2f % 8.2f % 8.2f % 8.2f % 8.2f % 8.2f % 8.2f| %s\" % (condB, \n",
    "                          f,  x[0], x[1], x[2], x[3], x[4], x[5], x[6], smsg))\n",
    "        \n",
    "# Fijamos una tolerancia y hacemos cero las componentes de x que son menores que la tolerancia        \n",
    "tol = (np.finfo(float).eps)**(3.0/4)\n",
    "ii  = np.where(xsol<tol)[0]\n",
    "xsol[ii] = 0.0\n",
    "\n",
    "print('\\nSolución del problema estándar:')\n",
    "print('x*=', xsol)\n",
    "print('Valor de la función objetivo en x*=', dmin)\n"
   ]
  },
  {
   "cell_type": "markdown",
   "id": "694130bc",
   "metadata": {},
   "source": [
    "Calculamos el vector $\\mathbf{\\lambda}$ de las condiciones KKT para programación lineal como en el ejercicio anterior"
   ]
  },
  {
   "cell_type": "code",
   "execution_count": 22,
   "id": "05ee35e7",
   "metadata": {},
   "outputs": [
    {
     "name": "stdout",
     "output_type": "stream",
     "text": [
      "El vecto lambda es:  [-0.3333 -0.5556  0.    ]\n"
     ]
    }
   ],
   "source": [
    "jj=list(np.squeeze(np.where(xsol>0)))\n",
    "B=A[:,jj]\n",
    "tilde_c=c[jj]\n",
    "# B.T*lamb=tilde_c\n",
    "lamb=np.linalg.solve(B.T,tilde_c)\n",
    "print('El vecto lambda es: ',lamb)"
   ]
  },
  {
   "cell_type": "markdown",
   "id": "bd7db6e0",
   "metadata": {},
   "source": [
    "Y a partir de este vector $\\lambda$ calculamos el vector $\\mathbf{s}$, que son los multiplicadores de Lagrange asociados a la restricción de desigualdad $\\mathbf{x}\\geq 0$ del problema de programación lineal en forma estándar."
   ]
  },
  {
   "cell_type": "code",
   "execution_count": 23,
   "id": "17895447",
   "metadata": {},
   "outputs": [
    {
     "name": "stdout",
     "output_type": "stream",
     "text": [
      "El valor del vector s es:  [0.7778 0.     0.     1.5556 0.3333 0.5556 0.    ]\n"
     ]
    }
   ],
   "source": [
    "s=np.zeros(A.shape[1])\n",
    "jj_complement=list(np.squeeze(np.where(xsol==0)))\n",
    "N=A[:,jj_complement]\n",
    "hat_c=c[jj_complement]\n",
    "# hat_s=c_hat-N.T*lamb\n",
    "hat_s=hat_c-N.T@lamb\n",
    "s[jj_complement]=hat_s\n",
    "print('El valor del vector s es: ',s)"
   ]
  },
  {
   "cell_type": "markdown",
   "id": "ca249f66",
   "metadata": {},
   "source": [
    "Finalmente, calculamos $\\mathbf{b}^T\\mathbf{\\lambda}$ y lo comparamos con el valor $\\mathbf{c}^T\\mathbf{x}$"
   ]
  },
  {
   "cell_type": "code",
   "execution_count": 24,
   "id": "77e5b9f2",
   "metadata": {},
   "outputs": [
    {
     "name": "stdout",
     "output_type": "stream",
     "text": [
      "Valor de b.T lambda:  -9.333333333333334\n",
      "Valor de c.T x_ast:  -9.333333333333334\n"
     ]
    }
   ],
   "source": [
    "print('Valor de b.T lambda: ',np.vdot(b,lamb))\n",
    "print('Valor de c.T x_ast: ',np.vdot(c,xsol))"
   ]
  },
  {
   "cell_type": "markdown",
   "id": "66b632ce",
   "metadata": {},
   "source": [
    "Ambos valores coinciden tratándose de las funciones objetivos del problema primal y dual del problema de programación lineal en forma estándar."
   ]
  },
  {
   "cell_type": "markdown",
   "id": "7a2950e7",
   "metadata": {},
   "source": [
    "Ahora para obtener validar la solución del problema usamos también la librería `pulp`. Primero declaramos el modelo inicial"
   ]
  },
  {
   "cell_type": "code",
   "execution_count": 11,
   "id": "42991fde",
   "metadata": {},
   "outputs": [
    {
     "name": "stdout",
     "output_type": "stream",
     "text": [
      "small-problem:\n",
      "MAXIMIZE\n",
      "1*x1 + 2*x2 + 1*x3 + 1*x4 + 0\n",
      "SUBJECT TO\n",
      "R1: 2 x1 + x2 + 3 x3 + x4 <= 8\n",
      "\n",
      "R2: 2 x1 + 3 x2 + 4 x4 <= 12\n",
      "\n",
      "R3: 3 x1 + x2 + 2 x3 <= 18\n",
      "\n",
      "VARIABLES\n",
      "x1 Continuous\n",
      "x2 Continuous\n",
      "x3 Continuous\n",
      "x4 Continuous\n",
      "\n"
     ]
    }
   ],
   "source": [
    "# Creacción de una instancia de la  clase \n",
    "model = LpProblem(name=\"small-problem\", sense=LpMaximize)\n",
    "\n",
    "# Variables de decisión\n",
    "x1 = LpVariable(name=\"x1\", lowBound=0)\n",
    "x2 = LpVariable(name=\"x2\", lowBound=0)\n",
    "x3 = LpVariable(name=\"x3\", lowBound=0)\n",
    "x4 = LpVariable(name=\"x4\", lowBound=0)\n",
    "\n",
    "\n",
    "\n",
    "\n",
    "# Se agregan las restricciones del modelo\n",
    "model += (2*x1 + x2 + 3*x3 + x4 <= 8, \"R1\")\n",
    "model += (2*x1 + 3*x2 + 4*x4  <= 12, \"R2\")\n",
    "model += (3*x1 + x2 + 2*x3  <= 18, \"R3\")\n",
    "\n",
    "# Función objetivo\n",
    "model += x1+2*x2+x3+x4\n",
    "\n",
    "print(model)"
   ]
  },
  {
   "cell_type": "markdown",
   "id": "0c831746",
   "metadata": {},
   "source": [
    "Posteriormente calculamos la solución"
   ]
  },
  {
   "cell_type": "code",
   "execution_count": 12,
   "id": "ec8d2285",
   "metadata": {},
   "outputs": [
    {
     "name": "stdout",
     "output_type": "stream",
     "text": [
      "Resultado:  1  |  Optimal\n",
      "Valor de la funciónn objetivo:  9.3333333\n",
      "Solución:\n",
      "        x1: 0.000000\n",
      "        x2: 4.000000\n",
      "        x3: 1.333333\n",
      "        x4: 0.000000\n",
      "\n",
      "Variables de holgura:\n",
      "        R1: -0.000000\n",
      "        R2: 0.000000\n",
      "        R3: -11.333333\n"
     ]
    }
   ],
   "source": [
    "status = model.solve(PULP_CBC_CMD(msg=False))\n",
    "\n",
    "print(\"Resultado: \", model.status, \" | \", LpStatus[model.status])\n",
    "\n",
    "print(\"Valor de la funciónn objetivo: \" , model.objective.value())\n",
    "\n",
    "\n",
    "print('Solución:')\n",
    "for var in model.variables():\n",
    "    print(\"%10s: %f\"  % (var.name, var.value()) )\n",
    "\n",
    "print('\\nVariables de holgura:')\n",
    "for name, constraint in model.constraints.items():\n",
    "    print(\"%10s: %f\" % (name, constraint.value()) )"
   ]
  },
  {
   "cell_type": "markdown",
   "id": "9785c2fc",
   "metadata": {},
   "source": [
    "Y la solución obtenida por esta librería coincide con la que hemos obtenido hallando las soluciones básicas factibles. "
   ]
  }
 ],
 "metadata": {
  "interpreter": {
   "hash": "31f2aee4e71d21fbe5cf8b01ff0e069b9275f58929596ceb00d14d90e3e16cd6"
  },
  "kernelspec": {
   "display_name": "Python 3.8.10 64-bit",
   "language": "python",
   "name": "python3"
  },
  "language_info": {
   "codemirror_mode": {
    "name": "ipython",
    "version": 3
   },
   "file_extension": ".py",
   "mimetype": "text/x-python",
   "name": "python",
   "nbconvert_exporter": "python",
   "pygments_lexer": "ipython3",
   "version": "3.8.10"
  }
 },
 "nbformat": 4,
 "nbformat_minor": 5
}
