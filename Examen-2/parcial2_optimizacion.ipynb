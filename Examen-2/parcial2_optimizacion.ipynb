{
 "cells": [
  {
   "cell_type": "markdown",
   "metadata": {},
   "source": [
    "# Curso de Optimización (DEMAT)\n",
    "## Parcial 2\n",
    "\n",
    "| Descripción:                         | Fechas               |\n",
    "|--------------------------------------|----------------------|\n",
    "| Fecha de publicación del documento:  | **Mayo 25, 2022**    |\n",
    "| Hora de inicio:                      | **15:00**            |\n",
    "| Hora límite de entrega:              | **18:00**            |\n",
    "\n",
    "\n",
    "### Indicaciones\n",
    "\n",
    "Lea con cuidado los ejercicios.\n",
    "\n",
    "Puede usar las notas de clase y las tareas hechas para resolver el examen.\n",
    "\n",
    "Al final, entregue el notebook con sus respuestas, junto con los códigos que hagan falta para reproducir los resultados. Si es más de un archivo, genere un archivo ZIP que contenga el notebook y los scripts adicionales.\n",
    "\n",
    "A partir del notebook genere un archivo PDF con las respuestas y envíelo por separado \n",
    "antes de la hora límite.\n"
   ]
  },
  {
   "cell_type": "markdown",
   "metadata": {},
   "source": [
    "## Ejercicio 1. (5 puntos)\n",
    "\n",
    "Sea \n",
    "\n",
    "$$ f(\\mathbf{x}) = f(x_1, x_2) = 2x_1^{2} + x_2^{2} - x_1 x_2 - 6.5x_1  + 2.5x_2. $$\n",
    "\n",
    "Considere el problema \n",
    "\n",
    "% $$ \\min\\; f(\\mathbf{x}) \\quad \\text{sujeto a} \\quad -1\\leq x_1 \\leq 1, \\; -1\\leq x_2 \\leq 1.$$\n",
    "\n",
    "Encontrar la solución usando un método de barrera logarítmica (Clase 25). \n",
    "\n",
    "Para esto construimos la función barrera logarítmica \n",
    "\n",
    "$$\n",
    "b_{log}(\\mathbf{x}; \\mu) = f(x_1,x_2) + \\frac{1}{\\mu}(-log(1-x_1)-log(1-x_2)-log(1+x_1)-log(1+x_2) )\n",
    "$$\n",
    "\n",
    "1. Programar las funciones y sus gradientes\n",
    "\n",
    "$$f(\\mathbf{x}) \\quad \\text{y} \\quad b_{log}(\\mathbf{x}; \\mu) $$ \n",
    "\n",
    "2. Programar el método de barrera  logarítmica:\n",
    "\n",
    "a) Dar un punto inicial $\\mathbf{x}_0$, la función $b_{log}(\\mathbf{x}; \\mu)$, su gradiente, $\\mu_0$, una\n",
    "   tolerancia $\\tau>0$ y los parámetros que se necesiten para usar el método BFGS.\n",
    "\n",
    "b) Hacer $k=0$ y repetir los siguientes pasos:\n",
    "\n",
    "b1) Usando el método BFGS, calcular el mínimo $\\mathbf{x}_{k+1}$ de $b_{log}(\\mathbf{x}; \\mu_k)$. Para\n",
    "    el método BFGS use la tolerancia $\\epsilon_m^{1/4}$ porque no necesitamos\n",
    "    tener demasiada precisión en el cálculo. Además, para el algoritmo de \n",
    "    backtracking use $\\alpha_{ini}=1$, para reducir la posibilidad de evaluar\n",
    "    la función de barrera en puntos que están fuera de la región factible.\n",
    "\n",
    "b2) Imprimir si el algoritmo BFGS encuentra la solución, y en ese caso imprimir\n",
    "\n",
    "- el entero $k$\n",
    "- el valor $\\mu_k$,\n",
    "- el número de iteraciones que realizó el algoritmo BFGS, \n",
    "- el punto $\\mathbf{x}_{k+1}$ y \n",
    "- el valor  $f(\\mathbf{x}_{k+1})$.\n",
    "\n",
    "b3) Si $\\|\\mathbf{x}_{k+1} - \\mathbf{x}_k\\|<\\tau$, terminar devolviendo  $\\mathbf{x}_{k+1}$ \n",
    "\n",
    "b4) En caso contrario, hacer $\\mu_{k+1} = 10\\mu_k$, $k=k+1$ y volver al paso (b1)\n",
    "\n",
    "3. Probar el algoritmo usando $\\mathbf{x}_0 = (-0.75, 0.5)$, $\\mu_0=1$ y $\\tau=0.001$.\n",
    "\n",
    "4. Si $(x_1^{k}, x_2^k)$ es el punto que devuelve el algoritmo de barrera \n",
    "   logarítmica y si está en\n",
    "   frontera, genere la gráfica de la función evaluándola en puntos \n",
    "   sobre la arista en donde está punto para visualmente verificar que \n",
    "   tiene sentido el resultado.\n",
    "   \n",
    "### Solución:"
   ]
  },
  {
   "cell_type": "markdown",
   "metadata": {},
   "source": [
    "A continuación probamos el algoritmo con un número de iteraciones máximo de $1000$ para el método de barrera y $50000$ para el BFGS, utilizando las tolerancias correspondientes."
   ]
  },
  {
   "cell_type": "code",
   "execution_count": 1,
   "metadata": {},
   "outputs": [
    {
     "name": "stdout",
     "output_type": "stream",
     "text": [
      "k =  6\n",
      "mu_k =  100000.0\n",
      "iteraciones BFGS =  30\n",
      "xk =  [[ 0.99999429]\n",
      " [-0.7499858 ]]\n",
      "fk =  [-5.06249]\n"
     ]
    },
    {
     "name": "stderr",
     "output_type": "stream",
     "text": [
      "/home/roberto/Documentos/DEMAT/10mo Semestre/Materias/Optimización/Examen Parcial 2/lib_examen_2.py:19: RuntimeWarning: invalid value encountered in log\n",
      "  aux=-(np.log(1.0-x_squeezed[0])+np.log(1.0+x_squeezed[0])+np.log(1.0-x_squeezed[1])+np.log(1.0+x_squeezed[1]))\n"
     ]
    }
   ],
   "source": [
    "import numpy as np\n",
    "import importlib\n",
    "\n",
    "# Tolerancia y numero maximo de iteraciones BFGS\n",
    "tol_BFGS=np.finfo(float).eps**(1/4)\n",
    "N_BFGS=5000\n",
    "rho=0.1\n",
    "\n",
    "# Tolerancia y numero de iteraciones BARRERA\n",
    "tol_BARRERA=0.001\n",
    "N_BARRERA=1000\n",
    "x0=np.array([-0.75,0.5])\n",
    "mu0=0.1\n",
    "\n",
    "import lib_examen_2\n",
    "importlib.reload(lib_examen_2)\n",
    "from lib_examen_2 import *\n",
    "\n",
    "# Prueba\n",
    "xk=proof_barrera(barrera_f,grad_barrera_f,x0,mu0,N_BARRERA,N_BFGS,tol_BARRERA,tol_BFGS,rho,eje1_f)"
   ]
  },
  {
   "cell_type": "markdown",
   "metadata": {},
   "source": [
    "Finalmente, evaluamos en la arista a la función $f$"
   ]
  },
  {
   "cell_type": "code",
   "execution_count": 2,
   "metadata": {},
   "outputs": [
    {
     "data": {
      "text/plain": [
       "<matplotlib.collections.PathCollection at 0x7f6eb3ab1730>"
      ]
     },
     "execution_count": 2,
     "metadata": {},
     "output_type": "execute_result"
    },
    {
     "data": {
      "image/png": "[encoded data removed]",
      "text/plain": [
       "<Figure size 432x288 with 1 Axes>"
      ]
     },
     "metadata": {
      "needs_background": "light"
     },
     "output_type": "display_data"
    }
   ],
   "source": [
    "import warnings\n",
    "warnings.filterwarnings(\"ignore\")\n",
    "\n",
    "\n",
    "def profile_f(x2):\n",
    "    vec=np.array([1.0,x2])\n",
    "    return eje1_f(vec)\n",
    "import matplotlib.pyplot as plt\n",
    "x2_linspace=np.linspace(-1.0,1.0,100)\n",
    "profile_f_x2_linspace=np.array([profile_f(x2) for x2 in x2_linspace])\n",
    "\n",
    "plt.plot(x2_linspace,profile_f_x2_linspace,color='blue')\n",
    "fk=profile_f(xk[1])\n",
    "plt.scatter(xk[1],fk, marker=\"o\",color='red')"
   ]
  },
  {
   "cell_type": "markdown",
   "metadata": {},
   "source": [
    "De lo que podemos observar que al menos el punto hallado $\\mathbf{x}^\\ast$, cerca de la frontera, es un mínimo local de la función $f$ considerando al menos la sección de la función correspondiente a la arista de la región factible."
   ]
  },
  {
   "cell_type": "markdown",
   "metadata": {
    "tags": []
   },
   "source": [
    "## Ejercicio 2. (5 puntos)\n",
    "\n",
    "Consideremos la función $f(z; x_1, ...,  x_{rs})$ definida por una combinación lineal de funciones trigonométricas:\n",
    "\n",
    "$$\n",
    "\\begin{array}{rcl}\n",
    "f(z; x_1, ...,  x_{rs}) &=&\n",
    "x_1 \\sin(\\omega_1 z + \\phi_1) + ... + x_{r} \\sin(\\omega_1 z + \\phi_r)\\\\\n",
    "& & + x_{r+1} \\sin(\\omega_2 z + \\phi_1) + ... + x_{2r} \\sin(\\omega_2 z + \\phi_r) \\\\\n",
    "& & + ... \\\\\n",
    "& & + x_{r(s-1)+1} \\sin(\\omega_{s}  z + \\phi_1) + ... + x_{rs} \\sin(\\omega_{s} z + \\phi_r)\n",
    "\\end{array}\n",
    "$$\n",
    "\n",
    "Para $ x_1, ...,  x_{rs}$ fijos y unos puntos $z_1, z_2, ..., z_m$ datos, calculamos \n",
    "$b_i = f(z_i; x_1, ...,  x_{rs})$ para $i=1,2,...,m$. Es decir, si construimos la matriz \n",
    "\n",
    "$$\n",
    "\\left(\n",
    "\\begin{array}{l}\n",
    "b_1 \\\\ b_2 \\\\ \\vdots \\\\ b_m\n",
    "\\end{array}\n",
    "\\right)\n",
    "=\n",
    "\\left[\n",
    "\\begin{array}{rrrrrr}\n",
    " \\sin(\\omega_1 z_1 + \\phi_1) & \\cdots & \\sin(\\omega_1 z_1 + \\phi_r) & \\sin(\\omega_2 z_1 + \\phi_1) &\\cdots & \\sin(\\omega_{s} z_1 + \\phi_r) \\\\\n",
    " \\sin(\\omega_1 z_2 + \\phi_1) & \\cdots & \\sin(\\omega_1 z_2 + \\phi_r) & \\sin(\\omega_2 z_2 + \\phi_1) &\\cdots & \\sin(\\omega_{s} z_2 + \\phi_r) \\\\\n",
    " \\vdots                      & \\cdots & \\vdots                      & \\vdots                      &\\cdots & \\vdots \\\\\n",
    " \\sin(\\omega_1 z_m + \\phi_1) & \\cdots & \\sin(\\omega_1 z_m + \\phi_r) & \\sin(\\omega_2 z_m + \\phi_1) &\\cdots & \\sin(\\omega_{s} z_m + \\phi_r) \n",
    "\\end{array}\n",
    "\\right]\n",
    "\\left(\n",
    "\\begin{array}{l}\n",
    "x_1 \\\\ x_2 \\\\ \\vdots \\\\ x_{rs}\n",
    "\\end{array}\n",
    "\\right)\n",
    "$$\n",
    "\n",
    "Es decir,\n",
    "\n",
    "$$ \\mathbf{b} = \\mathbf{A} \\mathbf{x} $$\n",
    "\n",
    "El siguiente código contruye la matriz $\\mathbf{A}$,  propone un vector $\\mathbf{x}_{real}$ y genera el vector  \n",
    "$\\mathbf{b} = \\mathbf{A} \\mathbf{x}_{real}$. \n"
   ]
  },
  {
   "cell_type": "code",
   "execution_count": 3,
   "metadata": {},
   "outputs": [
    {
     "name": "stdout",
     "output_type": "stream",
     "text": [
      "Vector de frecuencias omega:\n",
      " [0.5        0.57894737 0.65789474 0.73684211 0.81578947 0.89473684\n",
      " 0.97368421 1.05263158 1.13157895 1.21052632 1.28947368 1.36842105\n",
      " 1.44736842 1.52631579 1.60526316 1.68421053 1.76315789 1.84210526\n",
      " 1.92105263 2.        ]\n",
      "\n",
      "Vector de ángulos de fase phi:\n",
      " [0.         0.34906585 0.6981317  1.04719755 1.3962634  1.74532925\n",
      " 2.0943951  2.44346095 2.7925268  3.14159265]\n",
      "\n",
      "Dimensiones de la matriz A: (15, 200)\n"
     ]
    },
    {
     "data": {
      "image/png": "[encoded data removed]",
      "text/plain": [
       "<Figure size 432x288 with 1 Axes>"
      ]
     },
     "metadata": {
      "needs_background": "light"
     },
     "output_type": "display_data"
    },
    {
     "data": {
      "image/png": "[encoded data removed]",
      "text/plain": [
       "<Figure size 432x288 with 1 Axes>"
      ]
     },
     "metadata": {
      "needs_background": "light"
     },
     "output_type": "display_data"
    }
   ],
   "source": [
    "import numpy as np\n",
    "import matplotlib.pyplot as plt\n",
    "\n",
    "# Evalua cada función trigonométrica. \n",
    "def fnctrig(x, fparam):\n",
    "    omega = fparam['omega']\n",
    "    phi   = fparam['phi']\n",
    "    return np.sin(omega*x + phi)\n",
    "\n",
    "m    = 15   # Número de puntos z_i\n",
    "r    = 10   # Número de angulos phi\n",
    "s    = 20   # Número de frecuencias omega\n",
    "\n",
    "z     = np.linspace(0, 9, m)\n",
    "phi   = np.linspace(0, np.pi, r)\n",
    "omega = np.linspace(0.5, 2.0, s)\n",
    "\n",
    "print('Vector de frecuencias omega:\\n', omega)\n",
    "print('\\nVector de ángulos de fase phi:\\n', phi)\n",
    "\n",
    "n  = r*s\n",
    "\n",
    "# Se crea la matriz A \n",
    "A  = np.zeros((m, n))\n",
    "for i,z_i in enumerate(z):\n",
    "    mc = 0\n",
    "    for j,phi_j in enumerate(phi):\n",
    "        for l,omega_l in enumerate(omega):\n",
    "            fparam   = {'omega':omega_l, 'phi':phi_j}\n",
    "            A[i,mc] = fnctrig(z_i, fparam)\n",
    "            mc += 1\n",
    "\n",
    "x_real = np.zeros(n)\n",
    "nc = 1 \n",
    "for i in range(n):\n",
    "    if i%r==3 and (i//s)%2==0:\n",
    "        x_real[i] = (-1)**nc\n",
    "        nc  += 1\n",
    "\n",
    "b  = A @ x_real\n",
    "\n",
    "print('\\nDimensiones de la matriz A:', A.shape)\n",
    "\n",
    "plt.figure()\n",
    "plt.bar(np.arange(n), np.squeeze(x_real))\n",
    "plt.xlabel('Índice i')\n",
    "plt.ylabel(r'$x_i$')\n",
    "plt.title(r'Componentes del vector $x_{real}$ que genera los datos', fontsize=14)\n",
    "\n",
    "plt.figure()\n",
    "plt.plot(np.arange(m), b, 'r', linewidth=1)\n",
    "plt.xlabel('Índice i')\n",
    "plt.ylabel(r'$b_i$')\n",
    "_=plt.title(r'Datos generados $b_i$', fontsize=14)"
   ]
  },
  {
   "cell_type": "markdown",
   "metadata": {},
   "source": [
    "Dados la matriz $\\mathbf{A}$ y el vector $\\mathbf{b}$, queremos calcular un vector $\\mathbf{x}$ tal que \n",
    "\n",
    "$$ \\mathbf{b} = \\mathbf{A} \\mathbf{x}. $$\n",
    "\n",
    "Como $\\mathbf{A}$ es de tamaño $m \\times n$, con $m<n$, no se puede resolver \n",
    "el sistema de ecuaciones o aplicar el método de mínimos cuadrados.\n",
    "\n",
    "Como hay es un sistema subdeterminado, puede haber una infinidad de soluciones\n",
    "Una manera obtener un vector $\\mathbf{x}$ se seleccionar aquel que satisface\n",
    "el sistema y tiene norma mínima (para que no ocurra como en las soluciones\n",
    "de mínimos cuadrados en los que las componentes toman valores en el orden de \n",
    "decenas de miles mientras que el componentes de $\\mathbf{b}$ están en orden\n",
    "de unidades). Así se puede plantear el problema\n",
    "\n",
    "$$  \\min \\|\\mathbf{x}\\|_2 \\quad \\text{sujeto a} \\quad \\mathbf{A} \\mathbf{x} = \\mathbf{b}. $$\n",
    "\n",
    "Se puede ver que la solución de este problema está dada por (medio punto adicional \n",
    "si hacen la deducción)\n",
    "\n",
    "$$ \\mathbf{x}_{mn2} = \\mathbf{A}^\\top(\\mathbf{A}\\mathbf{A}^\\top)^{-1} \\mathbf{b}.$$\n",
    "\n",
    "El problema es que esta solución no es rala,\n",
    "es decir, que la mayoría de sus componentes son cero, tal como el\n",
    "vector $\\mathbf{x}_{real}$ que generó los datos $\\mathbf{b}$.\n",
    "\n",
    "\n",
    "El método \"basis pursuit\" propone calcular calcular $\\mathbf{x}$ resolviendo el problema\n",
    "\n",
    "$$  \\min \\|\\mathbf{x}\\|_1 \\quad \\text{sujeto a} \\quad \\mathbf{A} \\mathbf{x} = \\mathbf{b}. $$\n",
    "\n",
    "Al minimizar la suma de valores absolutos de las variables $x_i$, se espera que la mayoría de éstas se hagan cero para reducir la suma, en especial si usamos \n",
    "un método como el método simplex que calcula soluciones básicas factibles\n",
    "(todas la variables no básicas son cero).\n",
    "\n",
    "Este problema lo podemos plantear como un problema de programación lineal, expresando el vector \n",
    "$\\mathbf{x}$ como la resta de dos nuevos vectores de variables $\\mathbf{u}$  y $\\mathbf{v}$  no negativos:\n",
    "\n",
    "$$ \\mathbf{x} = \\mathbf{u} - \\mathbf{v}.$$\n",
    "\n",
    "Así, se plantea el problema de programación lineal\n",
    "\n",
    "\n",
    "$$  \\min \\; \n",
    "\\mathbf{c}^\\top \n",
    "\\left(\n",
    "\\begin{array}{l}\n",
    "\\mathbf{u}  \\\\ \\mathbf{v}\n",
    "\\end{array}\n",
    "\\right)\n",
    "\\quad \\text{sujeto a} \\quad \n",
    "[\\mathbf{A}\\;\\; -\\mathbf{A}] \n",
    "\\left(\n",
    "\\begin{array}{l}\n",
    "\\mathbf{u}  \\\\ \\mathbf{v}\n",
    "\\end{array}\n",
    "\\right)\n",
    "= \\mathbf{b}, \\quad (\\mathbf{u}, \\mathbf{v}) \\geq  \\mathbf{0}, $$\n",
    "\n",
    "donde $\\mathbf{c}$ es el vector con todas sus componentes iguales a 1.\n",
    "\n",
    "1. Calcule la solución de mínima norma 2, \n",
    "\n",
    "$$ \\mathbf{x}_{mn2}. $$\n",
    "\n",
    "-  Imprima el valor del error $\\|\\mathbf{A} \\mathbf{x}-\\mathbf{b}\\|$\n",
    "-  Grafique las entradas del vector mínima norma 2 para que\n",
    "   pueda constatar que no es vector ralo y que no tiene parecido \n",
    "   con $\\mathbf{x}_{real}$.\n",
    "   \n",
    "2. Resuelva el problema de programación lineal con alguna librería de Python.\n",
    "3. Construya y resuelva el problema dual para obtener el vector $\\lambda$ y \n",
    "   defina $\\mathbf{s}$ como las variables de holgura del problema dual.\n",
    "4. Verique si se cumplen las condiciones KKT para la variable primal $(\\mathbf{u}, \\mathbf{v})$\n",
    "   y las variables duales  $(\\lambda, \\mathbf{s})$ (pueden que no se cumplan\n",
    "   si la librería envió warnings sobre el mal condicionamiento de una matriz). \n",
    "5. Imprima y compare los valores de la función objetivo del problema \n",
    "   primal y del problema dual.\n",
    "6. Calcule $\\mathbf{x} = \\mathbf{u} - \\mathbf{v}$. Imprima el error $\\|\\mathbf{A} \\mathbf{x}-\\mathbf{b}\\|$\n",
    "   y grafique las entradas del vector $\\mathbf{x}$.\n",
    "   Comparado con la gráfica de $\\mathbf{x}_{real}$, describa las similutudes\n",
    "   o diferencias, y si menos \n",
    "   se cumple que es un vector ralo, que era el propósito original de cambiar\n",
    "   la norma 2 por la norma 1 en la función objetivo del problema.\n",
    "7. Repita los pasos 2 al 6, cambiando $m=50$. Vuelva a ejecutar el código \n",
    "   que genera a la matriz $\\mathbf{A}$ y al vector $\\mathbf{b}$.\n",
    "   Describa si hay algún cambio en los resultados por el hecho de tener\n",
    "   más ecuaciones.\n",
    "   \n",
    "\n",
    "### Solución:"
   ]
  },
  {
   "cell_type": "markdown",
   "metadata": {},
   "source": [
    "En primer lugar, calculamos la solución al problema de minimización con la norma 2 utilizando la fórmula proporcionada, este vector lo denotamos por $\\mathbf{x}^\\ast_2$"
   ]
  },
  {
   "cell_type": "code",
   "execution_count": 4,
   "metadata": {},
   "outputs": [
    {
     "name": "stdout",
     "output_type": "stream",
     "text": [
      "|Ax-b| =  0.0012767576284011112\n"
     ]
    }
   ],
   "source": [
    "# Norma 2\n",
    "x_2norm=A.T@np.linalg.inv(A@A.T)@b\n",
    "print('|Ax-b| = ',np.linalg.norm(A@x_2norm-b))"
   ]
  },
  {
   "cell_type": "markdown",
   "metadata": {},
   "source": [
    "Hacemos la gráfica de las componentes de $\\mathbf{x}^\\ast_2$"
   ]
  },
  {
   "cell_type": "code",
   "execution_count": 5,
   "metadata": {},
   "outputs": [
    {
     "data": {
      "text/plain": [
       "Text(0.5, 1.0, 'Componentes del vector $\\\\mathbf{x}^\\\\ast_2$ que genera los datos')"
      ]
     },
     "execution_count": 5,
     "metadata": {},
     "output_type": "execute_result"
    },
    {
     "data": {
      "image/png": "[encoded data removed]",
      "text/plain": [
       "<Figure size 432x288 with 1 Axes>"
      ]
     },
     "metadata": {
      "needs_background": "light"
     },
     "output_type": "display_data"
    }
   ],
   "source": [
    "plt.bar(np.arange(n), np.squeeze(x_2norm))\n",
    "plt.xlabel('Índice i')\n",
    "plt.ylabel(r'$x_i$')\n",
    "plt.title(r'Componentes del vector $\\mathbf{x}^\\ast_2$ que genera los datos', fontsize=14)"
   ]
  },
  {
   "cell_type": "markdown",
   "metadata": {},
   "source": [
    "Y claramente no es igual al vector $\\mathbf{x}_{\\mathrm{real}}$ propuesto."
   ]
  },
  {
   "cell_type": "markdown",
   "metadata": {},
   "source": [
    "Ahora, resolvemos el problema de programación lineal primal"
   ]
  },
  {
   "cell_type": "code",
   "execution_count": 6,
   "metadata": {},
   "outputs": [
    {
     "name": "stdout",
     "output_type": "stream",
     "text": [
      "\n",
      "Resultado del proceso: Optimization terminated successfully.\n",
      "Valor de la función objetivo: 5.758770483774055\n"
     ]
    }
   ],
   "source": [
    "from scipy.optimize import linprog\n",
    "import scipy\n",
    "\n",
    "c = np.ones(2*n)\n",
    "A_primal=np.concatenate((A, -A), axis=1)\n",
    "\n",
    "# Cotas de las variables\n",
    "bnd = [(0, scipy.inf) for i in range(2*n)]\n",
    "\n",
    "opt_primal = linprog(c=c, A_eq=A_primal, b_eq=b, bounds=bnd,\n",
    "              method=\"simplex\")\n",
    "\n",
    "print('\\nResultado del proceso:', opt_primal.message)\n",
    "if opt_primal.success:\n",
    "    print('Valor de la función objetivo:', opt_primal.fun)\n",
    "    x_1norm=opt_primal.x\n",
    "    "
   ]
  },
  {
   "cell_type": "markdown",
   "metadata": {},
   "source": [
    "Posteriormente, resolvemos el problema dual, en este caso consideramos el problema de $\\min -\\mathbf{b}^T\\lambda$"
   ]
  },
  {
   "cell_type": "code",
   "execution_count": 7,
   "metadata": {},
   "outputs": [
    {
     "name": "stdout",
     "output_type": "stream",
     "text": [
      "\n",
      "Resultado del proceso: Optimization terminated successfully.\n",
      "Valor de la función objetivo: -5.75877048293428\n"
     ]
    }
   ],
   "source": [
    "# Coeficientes de la funcion objetivo\n",
    "c_dual = -b\n",
    "\n",
    "# Coeficientes del lado izquierdo de las desigualdades del tipo \"menor o igual a\"\n",
    "A_dual = A_primal.T\n",
    "\n",
    "# Coeficientes del vector del lado derecho de las desigualdades del tipo \"menor o igual a\"\n",
    "b_dual = c\n",
    "\n",
    "# Cotas para las variables\n",
    "bnd = [(-scipy.inf, scipy.inf) for i in range(m)]\n",
    "\n",
    "\n",
    "opt_dual = linprog(c=c_dual, A_ub=A_dual, b_ub=b_dual, bounds=bnd,\n",
    "              method='interior-point')\n",
    "\n",
    "print('\\nResultado del proceso:', opt_dual.message)\n",
    "if opt_dual.success:\n",
    "    print('Valor de la función objetivo:', opt_dual.fun)\n",
    "    lamb=opt_dual.x\n",
    "    slack=opt_dual.slack"
   ]
  },
  {
   "cell_type": "markdown",
   "metadata": {},
   "source": [
    "Por lo que $\\max \\mathbf{b}^T\\lambda=\\min\\mathbf{c}^T\\mathbf{x}$, que es lo que pasa en dualidad fuerte. "
   ]
  },
  {
   "cell_type": "markdown",
   "metadata": {},
   "source": [
    "A continuación, verificamos las condiciones de KKT con un tolerancia $\\tau=\\sqrt{\\epsilon_m}$"
   ]
  },
  {
   "cell_type": "code",
   "execution_count": 8,
   "metadata": {},
   "outputs": [
    {
     "name": "stdout",
     "output_type": "stream",
     "text": [
      "Condicion 1: |AT*lamb+s-c| = 3.8459253727671276e-16\n",
      "Condicion 2: |Ax-b| =  1.1050046463299629e-14\n",
      "SI se cumple la condicion de no negatividad de x\n",
      "SI se cumple la condicion de no negatividad de s\n",
      "SI se cumple la condicion de complentariedad\n"
     ]
    }
   ],
   "source": [
    "importlib.reload(lib_examen_2)\n",
    "from lib_examen_2 import *\n",
    "\n",
    "tol_KKT=np.finfo(float).eps**(1/2)\n",
    "KKT_cond(tol_KKT,b,c,x_1norm,lamb,slack,A_primal)"
   ]
  },
  {
   "cell_type": "markdown",
   "metadata": {},
   "source": [
    "Finalmente hayamos el $\\mathbf{x}^\\ast_1$, que es el vector solución en el problema con la norma $1$, con el problema de programación lineal hemos obtenido tanto su parte posivia como negativa. "
   ]
  },
  {
   "cell_type": "code",
   "execution_count": 9,
   "metadata": {},
   "outputs": [
    {
     "name": "stdout",
     "output_type": "stream",
     "text": [
      "|Ax-b| =  1.1219401770546083e-14\n"
     ]
    }
   ],
   "source": [
    "x_1norm_pos_part=x_1norm[:n]\n",
    "x_1norm_neg_part=x_1norm[n:]\n",
    "x_1norm_gen=x_1norm_pos_part-x_1norm_neg_part\n",
    "\n",
    "print('|Ax-b| = ',np.linalg.norm(A@x_1norm_gen-b))"
   ]
  },
  {
   "cell_type": "markdown",
   "metadata": {},
   "source": [
    "La gráfica de los componentes de $\\mathbf{x}^\\ast_1$ es "
   ]
  },
  {
   "cell_type": "code",
   "execution_count": 10,
   "metadata": {},
   "outputs": [
    {
     "data": {
      "text/plain": [
       "Text(0.5, 1.0, 'Componentes del vector $\\\\mathbf{x}^\\\\ast_1$ que genera los datos')"
      ]
     },
     "execution_count": 10,
     "metadata": {},
     "output_type": "execute_result"
    },
    {
     "data": {
      "image/png": "[encoded data removed]",
      "text/plain": [
       "<Figure size 432x288 with 1 Axes>"
      ]
     },
     "metadata": {
      "needs_background": "light"
     },
     "output_type": "display_data"
    }
   ],
   "source": [
    "plt.bar(np.arange(n), np.squeeze(x_1norm_gen))\n",
    "plt.xlabel('Índice i')\n",
    "plt.ylabel(r'$x_i$')\n",
    "plt.title(r'Componentes del vector $\\mathbf{x}^\\ast_1$ que genera los datos', fontsize=14)"
   ]
  },
  {
   "cell_type": "markdown",
   "metadata": {},
   "source": [
    "Evidentemente este vector es mucho más ralo que el real, lo que sugiere un modelo más simple aunque los datos fueron generados por un modelo más complejo. "
   ]
  },
  {
   "cell_type": "markdown",
   "metadata": {},
   "source": [
    "#### Caso $m=50$"
   ]
  },
  {
   "cell_type": "markdown",
   "metadata": {},
   "source": [
    "Ahora replicamos los pasos, aumentando el número de ecuaciones"
   ]
  },
  {
   "cell_type": "code",
   "execution_count": 11,
   "metadata": {},
   "outputs": [
    {
     "name": "stdout",
     "output_type": "stream",
     "text": [
      "Vector de frecuencias omega:\n",
      " [0.5        0.57894737 0.65789474 0.73684211 0.81578947 0.89473684\n",
      " 0.97368421 1.05263158 1.13157895 1.21052632 1.28947368 1.36842105\n",
      " 1.44736842 1.52631579 1.60526316 1.68421053 1.76315789 1.84210526\n",
      " 1.92105263 2.        ]\n",
      "\n",
      "Vector de ángulos de fase phi:\n",
      " [0.         0.34906585 0.6981317  1.04719755 1.3962634  1.74532925\n",
      " 2.0943951  2.44346095 2.7925268  3.14159265]\n",
      "\n",
      "Dimensiones de la matriz A: (50, 200)\n"
     ]
    },
    {
     "data": {
      "image/png": "[encoded data removed]",
      "text/plain": [
       "<Figure size 432x288 with 1 Axes>"
      ]
     },
     "metadata": {
      "needs_background": "light"
     },
     "output_type": "display_data"
    },
    {
     "data": {
      "image/png": "[encoded data removed]",
      "text/plain": [
       "<Figure size 432x288 with 1 Axes>"
      ]
     },
     "metadata": {
      "needs_background": "light"
     },
     "output_type": "display_data"
    }
   ],
   "source": [
    "import numpy as np\n",
    "import matplotlib.pyplot as plt\n",
    "\n",
    "# Evalua cada función trigonométrica. \n",
    "def fnctrig(x, fparam):\n",
    "    omega = fparam['omega']\n",
    "    phi   = fparam['phi']\n",
    "    return np.sin(omega*x + phi)\n",
    "\n",
    "m    = 50   # Número de puntos z_i\n",
    "r    = 10   # Número de angulos phi\n",
    "s    = 20   # Número de frecuencias omega\n",
    "\n",
    "z     = np.linspace(0, 9, m)\n",
    "phi   = np.linspace(0, np.pi, r)\n",
    "omega = np.linspace(0.5, 2.0, s)\n",
    "\n",
    "print('Vector de frecuencias omega:\\n', omega)\n",
    "print('\\nVector de ángulos de fase phi:\\n', phi)\n",
    "\n",
    "n  = r*s\n",
    "\n",
    "# Se crea la matriz A \n",
    "A  = np.zeros((m, n))\n",
    "for i,z_i in enumerate(z):\n",
    "    mc = 0\n",
    "    for j,phi_j in enumerate(phi):\n",
    "        for l,omega_l in enumerate(omega):\n",
    "            fparam   = {'omega':omega_l, 'phi':phi_j}\n",
    "            A[i,mc] = fnctrig(z_i, fparam)\n",
    "            mc += 1\n",
    "\n",
    "x_real = np.zeros(n)\n",
    "nc = 1 \n",
    "for i in range(n):\n",
    "    if i%r==3 and (i//s)%2==0:\n",
    "        x_real[i] = (-1)**nc\n",
    "        nc  += 1\n",
    "\n",
    "b  = A @ x_real\n",
    "\n",
    "print('\\nDimensiones de la matriz A:', A.shape)\n",
    "\n",
    "plt.figure()\n",
    "plt.bar(np.arange(n), np.squeeze(x_real))\n",
    "plt.xlabel('Índice i')\n",
    "plt.ylabel(r'$x_i$')\n",
    "plt.title(r'Componentes del vector $x_{real}$ que genera los datos', fontsize=14)\n",
    "\n",
    "plt.figure()\n",
    "plt.plot(np.arange(m), b, 'r', linewidth=1)\n",
    "plt.xlabel('Índice i')\n",
    "plt.ylabel(r'$b_i$')\n",
    "_=plt.title(r'Datos generados $b_i$', fontsize=14)"
   ]
  },
  {
   "cell_type": "markdown",
   "metadata": {},
   "source": [
    "La solución con norma 2 la obtenemos a continuación. El error es"
   ]
  },
  {
   "cell_type": "code",
   "execution_count": 12,
   "metadata": {},
   "outputs": [
    {
     "name": "stdout",
     "output_type": "stream",
     "text": [
      "|Ax-b| =  114.54984322728232\n"
     ]
    }
   ],
   "source": [
    "# Norma 2\n",
    "x_2norm=A.T@np.linalg.inv(A@A.T)@b\n",
    "print('|Ax-b| = ',np.linalg.norm(A@x_2norm-b))"
   ]
  },
  {
   "cell_type": "markdown",
   "metadata": {},
   "source": [
    "Sus componentes son"
   ]
  },
  {
   "cell_type": "code",
   "execution_count": 13,
   "metadata": {},
   "outputs": [
    {
     "data": {
      "text/plain": [
       "Text(0.5, 1.0, 'Componentes del vector $\\\\mathbf{x}^\\\\ast_2$ que genera los datos')"
      ]
     },
     "execution_count": 13,
     "metadata": {},
     "output_type": "execute_result"
    },
    {
     "data": {
      "image/png": "[encoded data removed]",
      "text/plain": [
       "<Figure size 432x288 with 1 Axes>"
      ]
     },
     "metadata": {
      "needs_background": "light"
     },
     "output_type": "display_data"
    }
   ],
   "source": [
    "plt.bar(np.arange(n), np.squeeze(x_2norm))\n",
    "plt.xlabel('Índice i')\n",
    "plt.ylabel(r'$x_i$')\n",
    "plt.title(r'Componentes del vector $\\mathbf{x}^\\ast_2$ que genera los datos', fontsize=14)"
   ]
  },
  {
   "cell_type": "markdown",
   "metadata": {},
   "source": [
    "El problema primal en este caso es"
   ]
  },
  {
   "cell_type": "code",
   "execution_count": 14,
   "metadata": {},
   "outputs": [
    {
     "name": "stdout",
     "output_type": "stream",
     "text": [
      "\n",
      "Resultado del proceso: Optimization terminated successfully.\n",
      "Valor de la función objetivo: 5.758770483204005\n"
     ]
    }
   ],
   "source": [
    "from scipy.optimize import linprog\n",
    "import scipy\n",
    "\n",
    "c = np.ones(2*n)\n",
    "A_primal=np.concatenate((A, -A), axis=1)\n",
    "\n",
    "# Cotas de las variables\n",
    "bnd = [(0, scipy.inf) for i in range(2*n)]\n",
    "\n",
    "opt_primal = linprog(c=c, A_eq=A_primal, b_eq=b, bounds=bnd,\n",
    "              method='interior-point')\n",
    "\n",
    "print('\\nResultado del proceso:', opt_primal.message)\n",
    "if opt_primal.success:\n",
    "    print('Valor de la función objetivo:', opt_primal.fun)\n",
    "    x_1norm=opt_primal.x"
   ]
  },
  {
   "cell_type": "markdown",
   "metadata": {},
   "source": [
    "El dual correspondiente"
   ]
  },
  {
   "cell_type": "code",
   "execution_count": 15,
   "metadata": {},
   "outputs": [
    {
     "name": "stdout",
     "output_type": "stream",
     "text": [
      "\n",
      "Resultado del proceso: Optimization terminated successfully.\n",
      "Valor de la función objetivo: -5.758770483051036\n"
     ]
    }
   ],
   "source": [
    "# Coeficientes de la funcion objetivo\n",
    "c_dual = -b\n",
    "\n",
    "# Coeficientes del lado izquierdo de las desigualdades del tipo \"menor o igual a\"\n",
    "A_dual = A_primal.T\n",
    "\n",
    "# Coeficientes del vector del lado derecho de las desigualdades del tipo \"menor o igual a\"\n",
    "b_dual = c\n",
    "\n",
    "# Cotas para las variables\n",
    "bnd = [(-scipy.inf, scipy.inf) for i in range(m)]\n",
    "\n",
    "\n",
    "opt_dual = linprog(c=c_dual, A_ub=A_dual, b_ub=b_dual, bounds=bnd,\n",
    "              method='interior-point')\n",
    "\n",
    "print('\\nResultado del proceso:', opt_dual.message)\n",
    "if opt_dual.success:\n",
    "    print('Valor de la función objetivo:', opt_dual.fun)\n",
    "    lamb=opt_dual.x\n",
    "    slack=opt_dual.slack"
   ]
  },
  {
   "cell_type": "markdown",
   "metadata": {},
   "source": [
    "Verificamos las condiciones KKT"
   ]
  },
  {
   "cell_type": "code",
   "execution_count": 16,
   "metadata": {},
   "outputs": [
    {
     "name": "stdout",
     "output_type": "stream",
     "text": [
      "Condicion 1: |AT*lamb+s-c| = 2.9373740229761033e-16\n",
      "Condicion 2: |Ax-b| =  3.67522363563323e-10\n",
      "SI se cumple la condicion de no negatividad de x\n",
      "SI se cumple la condicion de no negatividad de s\n",
      "SI se cumple la condicion de complentariedad\n"
     ]
    }
   ],
   "source": [
    "importlib.reload(lib_examen_2)\n",
    "from lib_examen_2 import *\n",
    "\n",
    "tol_KKT=np.finfo(float).eps**(1/2)\n",
    "KKT_cond(tol_KKT,b,c,x_1norm,lamb,slack,A_primal)"
   ]
  },
  {
   "cell_type": "markdown",
   "metadata": {},
   "source": [
    "El error en este caso es"
   ]
  },
  {
   "cell_type": "code",
   "execution_count": 17,
   "metadata": {},
   "outputs": [
    {
     "name": "stdout",
     "output_type": "stream",
     "text": [
      "|Ax-b| =  3.675217025201218e-10\n"
     ]
    }
   ],
   "source": [
    "x_1norm_pos_part=x_1norm[:n]\n",
    "x_1norm_neg_part=x_1norm[n:]\n",
    "x_1norm_gen=x_1norm_pos_part-x_1norm_neg_part\n",
    "\n",
    "print('|Ax-b| = ',np.linalg.norm(A@x_1norm_gen-b))"
   ]
  },
  {
   "cell_type": "markdown",
   "metadata": {},
   "source": [
    "Y las componentes de la solución con la norma 1 las visualizamos a continuación"
   ]
  },
  {
   "cell_type": "code",
   "execution_count": 18,
   "metadata": {},
   "outputs": [
    {
     "data": {
      "text/plain": [
       "Text(0.5, 1.0, 'Componentes del vector $\\\\mathbf{x}^\\\\ast_1$ que genera los datos')"
      ]
     },
     "execution_count": 18,
     "metadata": {},
     "output_type": "execute_result"
    },
    {
     "data": {
      "image/png": "[encoded data removed]",
      "text/plain": [
       "<Figure size 432x288 with 1 Axes>"
      ]
     },
     "metadata": {
      "needs_background": "light"
     },
     "output_type": "display_data"
    }
   ],
   "source": [
    "plt.bar(np.arange(n), np.squeeze(x_1norm_gen))\n",
    "plt.xlabel('Índice i')\n",
    "plt.ylabel(r'$x_i$')\n",
    "plt.title(r'Componentes del vector $\\mathbf{x}^\\ast_1$ que genera los datos', fontsize=14)"
   ]
  },
  {
   "cell_type": "markdown",
   "metadata": {},
   "source": [
    "De igual forma tenemos una solución igual de sparse a pesar de aumentar el numero de ecuaciones"
   ]
  },
  {
   "cell_type": "markdown",
   "metadata": {},
   "source": [
    "Para justificar la fórmula cerrada que tenemos para el caso del problema de optimización con la norma 2 utilizaremos el método de multiplicadores de Lagrange.\n",
    "\n",
    "La función langrangiana es la siguiente\n",
    "$$ \n",
    "\\mathcal{L}(\\mathbf{x},\\lambda)=\\lVert x \\rVert_2-\\lambda^T(\\mathbf{A}\\mathbf{x}-\\mathbf{b}),\n",
    "$$\n",
    "\n",
    "luego el gradiente es \n",
    "$$\n",
    "\\nabla \\mathcal{L}(\\mathbf{x},\\lambda)=\\begin{bmatrix}2\\mathbf{x}-\\mathbf{A}^T\\lambda \\\\\n",
    "\\mathbf{A}\\mathbf{x}-\\mathbf{b}\\end{bmatrix}\n",
    "$$"
   ]
  },
  {
   "cell_type": "markdown",
   "metadata": {},
   "source": [
    "Por lo tanto, un punto critico es a que que anula el gradiente anterior, derivamos que $\\lambda^\\ast=(\\mathbf{A}\\mathbf{A}^T)^{-1}b$ por lo que \n",
    "$$ \n",
    "    \\mathbf{x}^\\ast=\\mathbf{A}^T(\\mathbf{A}\\mathbf{A}^T)^{-1}b,\n",
    "$$\n",
    "y se puede ver que $(\\mathbf{x}^\\ast,\\lambda^\\ast)$ cumplen las condiciones de segundo orden por lo que es mínimo local, y en virtud de estar en un problema convexo se tiene que $\\mathbf{x}^\\ast$ es mínimo global del problema de optimización con restricciones."
   ]
  }
 ],
 "metadata": {
  "interpreter": {
   "hash": "31f2aee4e71d21fbe5cf8b01ff0e069b9275f58929596ceb00d14d90e3e16cd6"
  },
  "kernelspec": {
   "display_name": "Python 3.8.10 64-bit",
   "language": "python",
   "name": "python3"
  },
  "language_info": {
   "codemirror_mode": {
    "name": "ipython",
    "version": 3
   },
   "file_extension": ".py",
   "mimetype": "text/x-python",
   "name": "python",
   "nbconvert_exporter": "python",
   "pygments_lexer": "ipython3",
   "version": "3.8.10"
  }
 },
 "nbformat": 4,
 "nbformat_minor": 4
}
