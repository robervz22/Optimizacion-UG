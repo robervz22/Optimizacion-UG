{
 "cells": [
  {
   "cell_type": "markdown",
   "metadata": {},
   "source": [
    "# Solución a LASSO vía Descenso por Coordenadas. \n",
    "\n",
    "Aquí implementamos el Algoritmo 5.1 descrito en el reporte *Análisis Convexo: Subdiferenciales* probandolo con el ejemplo de modelo de criminalidad en libro *Statistical Learning with Sparsity: The LASSO and Generalizations* página 10."
   ]
  },
  {
   "cell_type": "markdown",
   "metadata": {},
   "source": [
    "En primer lugar, cargamos la base de datos `crime_data.csv`. En el reporte se indica donde recuperar esta base de datos. "
   ]
  },
  {
   "cell_type": "code",
   "execution_count": 1,
   "metadata": {},
   "outputs": [
    {
     "data": {
      "text/html": [
       "<div>\n",
       "<style scoped>\n",
       "    .dataframe tbody tr th:only-of-type {\n",
       "        vertical-align: middle;\n",
       "    }\n",
       "\n",
       "    .dataframe tbody tr th {\n",
       "        vertical-align: top;\n",
       "    }\n",
       "\n",
       "    .dataframe thead th {\n",
       "        text-align: right;\n",
       "    }\n",
       "</style>\n",
       "<table border=\"1\" class=\"dataframe\">\n",
       "  <thead>\n",
       "    <tr style=\"text-align: right;\">\n",
       "      <th></th>\n",
       "      <th>crime rate</th>\n",
       "      <th>funding</th>\n",
       "      <th>hs</th>\n",
       "      <th>not-hs</th>\n",
       "      <th>college</th>\n",
       "      <th>college4</th>\n",
       "    </tr>\n",
       "  </thead>\n",
       "  <tbody>\n",
       "    <tr>\n",
       "      <th>0</th>\n",
       "      <td>478.0</td>\n",
       "      <td>40.0</td>\n",
       "      <td>74.0</td>\n",
       "      <td>11.0</td>\n",
       "      <td>31.0</td>\n",
       "      <td>20.0</td>\n",
       "    </tr>\n",
       "    <tr>\n",
       "      <th>1</th>\n",
       "      <td>494.0</td>\n",
       "      <td>32.0</td>\n",
       "      <td>72.0</td>\n",
       "      <td>11.0</td>\n",
       "      <td>43.0</td>\n",
       "      <td>18.0</td>\n",
       "    </tr>\n",
       "    <tr>\n",
       "      <th>2</th>\n",
       "      <td>643.0</td>\n",
       "      <td>57.0</td>\n",
       "      <td>70.0</td>\n",
       "      <td>18.0</td>\n",
       "      <td>16.0</td>\n",
       "      <td>16.0</td>\n",
       "    </tr>\n",
       "    <tr>\n",
       "      <th>3</th>\n",
       "      <td>341.0</td>\n",
       "      <td>31.0</td>\n",
       "      <td>71.0</td>\n",
       "      <td>11.0</td>\n",
       "      <td>25.0</td>\n",
       "      <td>19.0</td>\n",
       "    </tr>\n",
       "    <tr>\n",
       "      <th>4</th>\n",
       "      <td>773.0</td>\n",
       "      <td>67.0</td>\n",
       "      <td>72.0</td>\n",
       "      <td>9.0</td>\n",
       "      <td>29.0</td>\n",
       "      <td>24.0</td>\n",
       "    </tr>\n",
       "  </tbody>\n",
       "</table>\n",
       "</div>"
      ],
      "text/plain": [
       "   crime rate  funding    hs  not-hs  college  college4\n",
       "0       478.0     40.0  74.0    11.0     31.0      20.0\n",
       "1       494.0     32.0  72.0    11.0     43.0      18.0\n",
       "2       643.0     57.0  70.0    18.0     16.0      16.0\n",
       "3       341.0     31.0  71.0    11.0     25.0      19.0\n",
       "4       773.0     67.0  72.0     9.0     29.0      24.0"
      ]
     },
     "execution_count": 1,
     "metadata": {},
     "output_type": "execute_result"
    }
   ],
   "source": [
    "import numpy as np\n",
    "import pandas as pd\n",
    "\n",
    "crime_data = pd.read_csv('crime_data.csv',header=None, usecols=[0,2,3,4,5,6], names=['crime rate','funding','hs','not-hs','college','college4'],dtype=np.float64)\n",
    "\n",
    "crime_data.head()\n"
   ]
  },
  {
   "cell_type": "markdown",
   "metadata": {},
   "source": [
    "A continuación, programos algunas funciones auxiliares (como la función *soft thresholding*) además de centrar las variables y normalizar la matriz $X$ de predictores, de forma que las columnas de $X$ tengan media 0 y norma euclideana 1"
   ]
  },
  {
   "cell_type": "code",
   "execution_count": 2,
   "metadata": {},
   "outputs": [],
   "source": [
    "'''\n",
    "Datos con media 0 y varianza 1\n",
    "'''\n",
    "crime_data_cen=crime_data.subtract(crime_data.mean())\n",
    "Y=crime_data_cen['crime rate'].copy()\n",
    "crime_data_cen_and_norm=crime_data_cen.divide(crime_data_cen.std())\n",
    "crime_data_cen_and_norm['crime rate']=Y\n",
    "X=crime_data_cen_and_norm.iloc[:,1:].to_numpy()\n",
    "Y=Y.to_numpy()\n",
    "'''\n",
    "Funcion soft-thresholding\n",
    "'''\n",
    "def slam(x,lamb):\n",
    "    if np.abs(x)-lamb>=0:\n",
    "        value=np.abs(x)-lamb\n",
    "    else:\n",
    "        value=0.0\n",
    "    return np.sign(x)*value"
   ]
  },
  {
   "cell_type": "markdown",
   "metadata": {},
   "source": [
    "En la siguiente celda mostramos la implementación del Algoritmo 5.1, descrito en detalle en el reporte: *Análisis Convexo: Subdiferenciales*"
   ]
  },
  {
   "cell_type": "code",
   "execution_count": 3,
   "metadata": {},
   "outputs": [],
   "source": [
    "from sklearn.linear_model import LinearRegression\n",
    "'''\n",
    "Descenso por coordenadas para LASSO multipredictor\n",
    "'''\n",
    "M,tol=20,np.finfo(float).eps**(1/3) # Fijamos el numero de iteraciones maximo y la tolerancia\n",
    "\n",
    "def cyclic_coordinate_descent(lamb,X,Y):\n",
    "    # Condicion initial\n",
    "    reg_OLS=LinearRegression().fit(X,Y)\n",
    "    beta_OLS=reg_OLS.coef_\n",
    "    beta=beta_OLS.copy()\n",
    "    N,p=X.shape[0],X.shape[1]\n",
    "    old_beta=beta\n",
    "    res,k=0,1\n",
    "    while k<=M:\n",
    "        if k>1:\n",
    "            if np.max(np.abs(beta-old_beta))<tol:\n",
    "                res=1\n",
    "                return beta,beta_OLS,res\n",
    "        old_beta=beta\n",
    "        for j in range(p):\n",
    "            r=Y-X@beta\n",
    "            tmp=beta[j]+np.mean(X[:,j]*r)\n",
    "            beta[j]=slam(tmp,lamb)\n",
    "        k+=1\n",
    "    return beta,beta_OLS,res"
   ]
  },
  {
   "cell_type": "markdown",
   "metadata": {},
   "source": [
    "Finalmente, aplicamos esta función a los datos criminalidad. Para hallar el valor de $\\lambda$ ideal, el cual es el punto medio de hacer una restricción muy severa y el sobreajuste, usamos validación cruzada usando $K=10$ grupos. "
   ]
  },
  {
   "cell_type": "code",
   "execution_count": 4,
   "metadata": {},
   "outputs": [
    {
     "name": "stdout",
     "output_type": "stream",
     "text": [
      "El mejor lambda por CV es:  25.714285714285715\n",
      "La cota relativa con el mejor lambda es:  0.6070444680706486\n"
     ]
    }
   ],
   "source": [
    "'''\n",
    "Obtenemos lambda por validación cruzada\n",
    "'''\n",
    "np.random.seed(1)\n",
    "\n",
    "from sklearn.model_selection import RepeatedKFold\n",
    "from sklearn.metrics import mean_squared_error\n",
    "n_lambdas = 15\n",
    "lambdas = np.linspace(0.0,120.0,n_lambdas)\n",
    "n_repeats = 1\n",
    "n_splits = 10\n",
    "kf = RepeatedKFold(n_splits=n_splits, n_repeats=n_repeats, random_state=None)\n",
    "\n",
    "MSE_per_lambda_and_K_fold = np.zeros((n_repeats*n_splits, n_lambdas))\n",
    "\n",
    "n_selected=np.empty(len(lambdas))\n",
    "dist_to_OLS=np.empty(len(lambdas))\n",
    "\n",
    "\n",
    "\n",
    "for i, index in enumerate(kf.split(X)):\n",
    "    train_index, valid_index = index\n",
    "    X_Kfold, X_valid = X[train_index], X[valid_index]\n",
    "    y_Kfold, y_valid = Y[train_index], Y[valid_index]\n",
    "\n",
    "    for j, l in enumerate(lambdas):\n",
    "        beta_lasso,beta_OLS,res_lasso = cyclic_coordinate_descent(l,X_Kfold,y_Kfold)\n",
    "        \n",
    "        hat_y_valid = X_valid@beta_lasso\n",
    "        '''\n",
    "        Distancia respecto a OLS y numero de variables seleccionadas\n",
    "        '''\n",
    "        n_selected[j]=sum(beta_lasso!=0)\n",
    "        dist_to_OLS[j]=np.sum(np.abs(beta_lasso))/np.sum(np.abs(beta_OLS))\n",
    "        '''\n",
    "        Error cuadratico por grupo y por lambda\n",
    "        '''\n",
    "        MSE_per_lambda_and_K_fold[i,j] = mean_squared_error(y_valid, hat_y_valid)\n",
    "        \n",
    "\n",
    "mean_MSE = MSE_per_lambda_and_K_fold.mean(axis=0)\n",
    "std_MSE= MSE_per_lambda_and_K_fold.std(axis=0)\n",
    "n_selected=n_selected.astype(int)\n",
    "index_best_lamb=np.argmin(mean_MSE)\n",
    "best_lamb=lambdas[index_best_lamb]\n",
    "\n",
    "print('El mejor lambda por CV es: ',best_lamb)\n",
    "print('La cota relativa con el mejor lambda es: ',dist_to_OLS[index_best_lamb])\n"
   ]
  },
  {
   "cell_type": "markdown",
   "metadata": {},
   "source": [
    "La cota relativa es parecida a la que se obtiene en el problema con restricción $(0.56)$"
   ]
  },
  {
   "cell_type": "markdown",
   "metadata": {},
   "source": [
    "Graficamos la curva de la media del error cometido para cada valor de $\\lambda$ respecto a $\\lVert\\hat{\\beta}_{LASSO}(\\lambda)\\rVert_1/\\lVert\\hat{\\beta}_{OLS}\\rVert_1$ que es un número en $[0,1]$."
   ]
  },
  {
   "cell_type": "code",
   "execution_count": 5,
   "metadata": {},
   "outputs": [
    {
     "data": {
      "image/png": "[encoded data removed]",
      "text/plain": [
       "<Figure size 576x432 with 2 Axes>"
      ]
     },
     "metadata": {
      "needs_background": "light"
     },
     "output_type": "display_data"
    }
   ],
   "source": [
    "import matplotlib.pyplot as plt\n",
    "\n",
    "fig = plt.figure(figsize=(8,6))\n",
    "ax1 = fig.add_subplot(111)\n",
    "\n",
    "# Media del error en CV para cada lambda\n",
    "ax1.scatter(dist_to_OLS, mean_MSE,alpha=0.2)\n",
    "ax1.errorbar(dist_to_OLS,mean_MSE,std_MSE, ecolor = 'k', elinewidth = 1, capsize=5)\n",
    "ax1.axvline(x=dist_to_OLS[index_best_lamb],color='orange',linestyle='--',label='óptima cota relativa')\n",
    "ax1.legend()\n",
    "ax1.set_xlim(np.min(dist_to_OLS)-0.1, np.max(dist_to_OLS)+0.1)\n",
    "ax1.set_xlabel('Cota relativa OLS')\n",
    "ax1.set_ylabel('error')\n",
    "ax1.grid(True)\n",
    "\n",
    "\n",
    "ax2 = ax1.twiny()\n",
    "ax2.set_xlim(np.min(dist_to_OLS)-0.1, np.max(dist_to_OLS)+0.1)\n",
    "ax2.set_xticks(dist_to_OLS)\n",
    "ax2.set_xticklabels(n_selected)\n",
    "ax2.grid(False)\n",
    "\n",
    "\n",
    "title = ax1.set_title(\"Validación cruzada LASSO\")\n",
    "title.set_y(1.1)\n",
    "fig.subplots_adjust(top=0.85)\n",
    "plt.show()"
   ]
  },
  {
   "cell_type": "markdown",
   "metadata": {},
   "source": [
    "Finalmente, obtenemos la traza de LASSO, lo que nos muestra el *grado de importancia* de cada predictor."
   ]
  },
  {
   "cell_type": "code",
   "execution_count": 6,
   "metadata": {},
   "outputs": [
    {
     "data": {
      "image/png": "[encoded data removed]",
      "text/plain": [
       "<Figure size 576x432 with 1 Axes>"
      ]
     },
     "metadata": {
      "needs_background": "light"
     },
     "output_type": "display_data"
    }
   ],
   "source": [
    "coefs = []\n",
    "\n",
    "for l in lambdas:\n",
    "    beta_lasso,beta_OLS,res_lasso = cyclic_coordinate_descent(l,X,Y)\n",
    "    coefs.append(beta_lasso)\n",
    "\n",
    "\n",
    "fig = plt.figure(figsize=(8,6))\n",
    "ax1 = fig.add_subplot(111)\n",
    "\n",
    "ax1.plot(dist_to_OLS,coefs)\n",
    "ax1.set_xlabel('Cota relativa OLS')\n",
    "ax1.set_ylabel(r'$\\beta$')\n",
    "ax1.axvline(x=dist_to_OLS[index_best_lamb],color='k',linestyle='--',linewidth=1,label='óptima cota relativa')\n",
    "ax1.set_title('Coeficientes '+r'$\\beta$'+' contra la cota relativa ')\n",
    "ax1.grid(True)\n",
    "plt.legend(crime_data.columns[1:])\n",
    "plt.show()"
   ]
  },
  {
   "cell_type": "markdown",
   "metadata": {},
   "source": [
    "Finalmente mostramos la solución $\\hat{\\beta}_{LASSO}(\\lambda)$ obtenida con el $\\lambda$ calculado por CV."
   ]
  },
  {
   "cell_type": "code",
   "execution_count": 7,
   "metadata": {},
   "outputs": [
    {
     "name": "stdout",
     "output_type": "stream",
     "text": [
      "Vector de coeficientes obtenido por LASSO con lambda calculado por CV\n",
      "[126.04256938 -31.92873317  30.28009252  -0.           0.        ]\n"
     ]
    }
   ],
   "source": [
    "best_beta_lasso,beta_OLS,res_lasso=cyclic_coordinate_descent(best_lamb,X,Y)\n",
    "print('Vector de coeficientes obtenido por LASSO con lambda calculado por CV')\n",
    "print(best_beta_lasso)"
   ]
  },
  {
   "cell_type": "code",
   "execution_count": 8,
   "metadata": {},
   "outputs": [
    {
     "name": "stdout",
     "output_type": "stream",
     "text": [
      "La solución LASSO obtenida por Python con el mismo lambda es\n",
      "[126.7729288  -18.56700535  19.09516676  -0.          -0.        ]\n"
     ]
    }
   ],
   "source": [
    "from sklearn.linear_model import Lasso\n",
    "\n",
    "reg_lasso_Python=Lasso(alpha=best_lamb,fit_intercept=False,max_iter=20,tol=tol).fit(X,Y)\n",
    "best_beta_lasso_Python=reg_lasso_Python.coef_\n",
    "print('La solución LASSO obtenida por Python con el mismo lambda es')\n",
    "print(best_beta_lasso_Python)"
   ]
  },
  {
   "cell_type": "markdown",
   "metadata": {},
   "source": [
    "De lo que se ve que nuestro algoritmo tiene un desempeño razonable, quizás halla error numérico o la inicialización juegue cierto papel."
   ]
  }
 ],
 "metadata": {
  "interpreter": {
   "hash": "31f2aee4e71d21fbe5cf8b01ff0e069b9275f58929596ceb00d14d90e3e16cd6"
  },
  "kernelspec": {
   "display_name": "Python 3.8.10 64-bit",
   "language": "python",
   "name": "python3"
  },
  "language_info": {
   "codemirror_mode": {
    "name": "ipython",
    "version": 3
   },
   "file_extension": ".py",
   "mimetype": "text/x-python",
   "name": "python",
   "nbconvert_exporter": "python",
   "pygments_lexer": "ipython3",
   "version": "3.8.10"
  },
  "orig_nbformat": 4
 },
 "nbformat": 4,
 "nbformat_minor": 2
}
