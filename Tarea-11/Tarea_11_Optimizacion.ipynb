{
 "cells": [
  {
   "cell_type": "markdown",
   "id": "319ca661-2e48-4684-837e-4fd4c7289c02",
   "metadata": {},
   "source": [
    "\n",
    "# Ejercicio 1 (3 puntos)\n",
    "\n",
    "Usando alguna librería de Python para resolver problemas de programación lineal, escriba y resuelva el problema de la Tarea 10:\n",
    "\n",
    "$$\n",
    "\\begin{array}{rl}\n",
    "\\max & x_1 + x_2\\\\\n",
    "     & 50x_1 + 24x_2 \\leq 2400 \\\\\n",
    "     & 30x_1 + 33x_2 \\leq 2100 \\\\\n",
    "     & x_1 \\geq 45 \\\\\n",
    "     & x_2 \\geq 5\n",
    "\\end{array}\n",
    "$$\n",
    "\n",
    "1. Cambie el problema para que todas las desigualdes sean de la forma \n",
    "\n",
    "$$\\mathbf{A}\\mathbf{x}\\leq \\mathbf{b}.$$\n",
    "\n",
    "2. Construya los vectores $\\mathbf{b},\\mathbf{c}$ y la matriz $\\mathbf{A}$ y resuelva el problema con la librería. \n",
    "\n",
    "3. Imprima un mensaje que indique si se encontró la solución, y en ese caso imprima  :\n",
    "- la solución $\\mathbf{x}$, \n",
    "- el valor de la función objetivo,\n",
    "- las variables de holgura,\n",
    "\n",
    "4. Calcule los errores\n",
    "\n",
    "$$ E_x = \\sum_{x_i<0} |x_i|. $$\n",
    "$$ E_{b-Ax} = \\sum_{(b-Ax)_i<0} |(b-Ax)_i|$$\n",
    "\n",
    "   Es decir, se suman las componentes de $\\mathbf{x}$ que no cumplen la condición\n",
    "   $\\mathbf{x}\\geq \\mathbf{0}$ y las componentes que no cumplen con $\\mathbf{A}\\mathbf{x}\\leq \\mathbf{b}$.\n",
    "\n",
    "5. Defina la tolerancia $\\tau=\\sqrt{\\epsilon_m}$, donde $\\epsilon_m$ es el \n",
    "   épsilon de la máquina.\n",
    "   Si $E_x<\\tau$ imprima un mensaje de que se cumple la condición de no negatividad, y si $E_{b-Ax}<\\tau$ imprima un mensaje de que se cumplen las restricciones de desigualdad.\n",
    "\n",
    "## Solución:"
   ]
  },
  {
   "cell_type": "markdown",
   "id": "29c53b39",
   "metadata": {},
   "source": [
    "En primer lugar, hallaremos $\\mathbf{A},\\mathbf{b}$ de forma que las restricciones son de la forma $\\mathbf{A}\\mathbf{x}\\leq\\mathbf{b}$. Notemos que las restricciones son equivalentes a la siguiente lista de desigualdades \n",
    "$$\n",
    "\\begin{array}{rl}\n",
    "     & 50x_1 + 24x_2 \\leq 2400 \\\\\n",
    "     & 30x_1 + 33x_2 \\leq 2100 \\\\\n",
    "     & -x_1 \\leq 45 \\\\\n",
    "     & -x_2 \\leq 5\n",
    "\\end{array}\n",
    "$$\n",
    "\n",
    "Si $\\mathbf{c}=(-1,-1)$, $\\mathbf{b}=(2400,2100,-45,-5)^T$ y \n",
    "$$ \n",
    "\\mathbf{A}=\\begin{pmatrix}\n",
    "50 & 24\\\\\n",
    "30 & 33\\\\\n",
    "-1 & 0\\\\\n",
    " 0 & -1\n",
    "\\end{pmatrix},\n",
    "$$\n",
    "\n",
    "entonces el problema de optimización que queremos resolver es \n",
    "$$ \n",
    "\\min_{\\mathbf{x}}\\mathbf{c}^T\\mathbf{x}\\quad\\text{ sujeto a }\\quad \\mathbf{A}\\mathbf{x}\\leq \\mathbf{b},\n",
    "$$\n",
    "\n",
    "que es lo que queríamos obtener el numeral 1. \n",
    "\n",
    "Para el numeral 2 y 3 construimos los vectores y matrices correspondiente para posteriormente aplicar la librería `linprog` de `scipy`  obtener la solución así como los demás datos requeridos. Esto lo hacemos en la siguiente celda de código.\n"
   ]
  },
  {
   "cell_type": "code",
   "execution_count": 1,
   "id": "8d017621-bdcc-45fe-aa01-21b8c49b2d61",
   "metadata": {},
   "outputs": [
    {
     "name": "stdout",
     "output_type": "stream",
     "text": [
      "\n",
      "Resultado del proceso: Optimization terminated successfully.\n",
      "Valor de la función objetivo: -51.25\n",
      "Solución:\n",
      " [45.    6.25]\n",
      "\n",
      "Variables de holgura:\n",
      " [  0.   543.75   0.     1.25]\n"
     ]
    }
   ],
   "source": [
    "from scipy.optimize import linprog\n",
    "import scipy\n",
    "\n",
    "\n",
    "# Coeficientes de la funcion objetivo\n",
    "obj = [-1.0, -1.0]\n",
    "\n",
    "# Coeficientes del lado izquierdo de las desigualdades del tipo \"menor o igual a\"\n",
    "lhs_ineq = [[50.0, 24.0],\n",
    "            [30.0, 33.0],\n",
    "            [-1.0, 0.0],\n",
    "            [0.0,-1.0]]\n",
    "\n",
    "# Coeficientes del vector del lado derecho de las desigualdades del tipo \"menor o igual a\"\n",
    "rhs_ineq = [2400, 2100, -45,-5]\n",
    "\n",
    "\n",
    "# Cotas de las variables\n",
    "bnd = [(0, scipy.inf),  # cotas para x1\n",
    "       (0, scipy.inf)]  # cotas para x2\n",
    "\n",
    "opt_ineq = linprog(c=obj, A_ub=lhs_ineq, b_ub=rhs_ineq, bounds=bnd,\n",
    "              method=\"simplex\")\n",
    "\n",
    "print('\\nResultado del proceso:', opt_ineq.message)\n",
    "if opt_ineq.success:\n",
    "    print('Valor de la función objetivo:', opt_ineq.fun)\n",
    "    print('Solución:\\n', opt_ineq.x)\n",
    "    print('\\nVariables de holgura:\\n', opt_ineq.slack)"
   ]
  },
  {
   "cell_type": "markdown",
   "id": "25bfaa3a",
   "metadata": {},
   "source": [
    "Y esta solución es la misma que la encontrada en el Ejercicio 2 de la Tarea 10 usando la forma estándar y hallando los puntos básicos factibles."
   ]
  },
  {
   "cell_type": "markdown",
   "id": "a6def479",
   "metadata": {},
   "source": [
    "Finalmente, importamos el modulo `lib_t11` donde implementamos la funciones `positive_cond` y `restriction_cond`, las cuales verifican bajo la tolerancia seleccionada si se cumplen la condición de no negatividad de las variables y las reestricciones de desigualdad, respectivamente.\n",
    "\n",
    "Resolvemos el numeral 4 y 5 con estas funciones en la siguiente celda."
   ]
  },
  {
   "cell_type": "code",
   "execution_count": 2,
   "id": "fa51e538",
   "metadata": {},
   "outputs": [
    {
     "name": "stdout",
     "output_type": "stream",
     "text": [
      "Se cumplen la condicion de no negatividad\n",
      "Se cumple las restricciones de desigualdad\n"
     ]
    }
   ],
   "source": [
    "import numpy as np\n",
    "from lib_t11 import *\n",
    "\n",
    "tol=np.finfo(float).eps**(1/2)\n",
    "\n",
    "# Condicion de no negatividad\n",
    "positive_cond(tol,opt_ineq.x)\n",
    "\n",
    "# Restricciones de desigualdad\n",
    "restriction_cond(tol,opt_ineq.x,lhs_ineq,rhs_ineq)"
   ]
  },
  {
   "cell_type": "markdown",
   "id": "8cd024a9-fac6-4e48-b657-ccd63b041fbf",
   "metadata": {},
   "source": [
    "\n",
    "# Ejercicio 2 (3 puntos)\n",
    "\n",
    "1. Escriba el problema anterior en su forma estándar.\n",
    "2. Construya los vectores $\\mathbf{b},\\mathbf{c}$ y la matriz $\\mathbf{A}$  y resuelva este problema con la librería. \n",
    "3. Imprima un mensaje que indique si se encontró la solución, y en ese caso imprima la solución, el valor de la función objetivo, las variables de holgura y el error\n",
    "\n",
    "$$ \\|\\mathbf{A}\\mathbf{x}-\\mathbf{b}\\|. $$\n",
    "\n",
    "4. Calcule el error $E_x$ como en el Ejercicio 1 y si $E_x<\\tau$ imprima un mensaje de que se cumple la condición de no negatividad.\n",
    "\n",
    "\n",
    "## Solución:"
   ]
  },
  {
   "cell_type": "markdown",
   "id": "bea560e6",
   "metadata": {},
   "source": [
    "En la Tarea 10 se nos proporciona la forma estándar considerando $\\mathbf{x}=(x_1,x_2,x_3,x_4,x_5,x_6)^T$, aquí las variables del problema son $x_1$ y $x_2$, las restantes son las variables de holgura.\n",
    "\n",
    "En este caso, consideramos $\\mathbf{c}=(-1,-1,0,0,0,0)^T$, $\\mathbf{b}=(2400,2100,45,5)$ y \n",
    "$$ \n",
    "\\mathbf{A}=\\begin{pmatrix}\n",
    "50 & 24 & 1 & 0 & 0 & 0\\\\\n",
    "30 & 33 & 0 & 1 & 0 & 0\\\\\n",
    "1  &  0 & 0 & 0 &-1 & 0\\\\\n",
    "0  &  1 & 0 & 0 & 0 &-1\n",
    "\\end{pmatrix}.\n",
    "$$\n",
    "\n",
    "Por lo tanto, el problema en forma estándar es \n",
    "$$ \n",
    "\\min_{\\mathbf{x}} \\mathbf{c}^T\\mathbf{x}\\quad\\text{ sujeto a }\\quad \\mathbf{A}\\mathbf{x}=\\mathbf{b}\\quad\\text{ y }\\quad \\mathbf{x}\\geq \\mathbf{0}\n",
    "$$\n",
    "\n",
    "En forma estándar, el problema de programación lineal lo resolvemos utilizando los argumentos `A_eq` y `b_eq` de la función `linprog` de la librería `scipy`"
   ]
  },
  {
   "cell_type": "code",
   "execution_count": 3,
   "id": "6b09c3a1-e916-454f-99bf-d4a74fd996d1",
   "metadata": {},
   "outputs": [
    {
     "name": "stdout",
     "output_type": "stream",
     "text": [
      "\n",
      "Resultado del proceso: Optimization terminated successfully.\n",
      "Valor de la función objetivo: -51.25\n",
      "\n",
      "Solución:\n",
      " [ 45.     6.25   0.   543.75   0.     1.25]\n",
      "\n",
      "|Ax-b|:  3.552713678800501e-15\n"
     ]
    }
   ],
   "source": [
    "c = np.array([-1, -1, 0, 0, 0, 0 ])\n",
    "b = np.array([2400, 2100, 45, 5])\n",
    "A = np.array([[50, 24, 1, 0, 0, 0],\n",
    "              [30, 33, 0, 1, 0, 0],\n",
    "              [ 1,  0, 0, 0,-1, 0],\n",
    "              [ 0,  1, 0, 0, 0,-1] ])\n",
    "\n",
    "# Cotas de las variables\n",
    "bnd = [(0, scipy.inf),  # cotas para x1\n",
    "       (0, scipy.inf),  # cotas para x2\n",
    "       (0, scipy.inf),  # cotas para x3\n",
    "       (0, scipy.inf),  # cotas para x4\n",
    "       (0, scipy.inf),  # cotas para x5\n",
    "       (0, scipy.inf)]  # cotas para x6\n",
    "\n",
    "opt_eq = linprog(c=c, A_eq=A, b_eq=b, bounds=bnd,\n",
    "              method=\"simplex\")\n",
    "\n",
    "print('\\nResultado del proceso:', opt_eq.message)\n",
    "if opt_eq.success:\n",
    "    print('Valor de la función objetivo:', opt_eq.fun)\n",
    "    print('\\nSolución:\\n', opt_eq.x)\n",
    "    print('\\n|Ax-b|: ', np.linalg.norm(opt_eq.con))"
   ]
  },
  {
   "cell_type": "markdown",
   "id": "67d3576c",
   "metadata": {},
   "source": [
    "Las variables de holgura, como previamente dijimos, son las coordenadas del vector solución correspondiente a las variables $x_3,x_4,x_5,x_6$."
   ]
  },
  {
   "cell_type": "markdown",
   "id": "b02d5105",
   "metadata": {},
   "source": [
    "Finalmente, checamos la condición de no negatividad"
   ]
  },
  {
   "cell_type": "code",
   "execution_count": 4,
   "id": "b98ebe90",
   "metadata": {},
   "outputs": [
    {
     "name": "stdout",
     "output_type": "stream",
     "text": [
      "Se cumplen la condicion de no negatividad\n"
     ]
    }
   ],
   "source": [
    "positive_cond(tol,opt_eq.x)"
   ]
  },
  {
   "cell_type": "markdown",
   "id": "0c9ecb0b-52d7-441a-9838-8d606148834f",
   "metadata": {},
   "source": [
    "# Ejercicio 3 (4 puntos)\n",
    "\n",
    "1. Escriba el problema dual del Ejercicio 2.\n",
    "2. Resuelva el problema dual con la librería. Esto debería devolver el vector $\\lambda$ que son los multiplicadores de Lagrange de la restricciones de igualdad del problema primal.\n",
    "3. Imprima un mensaje que indique si se encontró la solución, y de ser así, imprima $\\lambda$, el valor de la función objetivo y las variables de holgura.\n",
    "4. Usando el valor $\\mathbf{x}$ del Ejercicio 2, imprima el error relativo \n",
    "\n",
    "$$\\frac{|\\mathbf{c}^\\top\\mathbf{x} - \\mathbf{b}^\\top\\mathbf{\\lambda}|}\n",
    "{|\\mathbf{c}^\\top\\mathbf{x}|}.$$ \n",
    "\n",
    "4. Defina el vector $\\mathbf{s}$ como las variables de holgura.\n",
    "5. Programe una función que reciba los vectores $\\mathbf{b}, \\mathbf{c}$,\n",
    "   $\\mathbf{x}, \\lambda, \\mathbf{s}$, la matriz $\\mathbf{A}$ y una\n",
    "   tolerancia $\\tau$, y verique\n",
    "   que se cumplen las condiciones KKT:\n",
    "\n",
    "$$\n",
    "\\begin{array}{rclc}\n",
    "  \\mathbf{A}^\\top \\mathbf{\\lambda} + \\mathbf{s} &=& \\mathbf{c}, & (1) \\\\\n",
    "  \\mathbf{A}\\mathbf{x} &=& \\mathbf{b}, & (2) \\\\\n",
    "  \\mathbf{x} & \\geq & \\mathbf{0}, & (3)  \\\\\n",
    "  \\mathbf{s} & \\geq & \\mathbf{0}, & (4)  \\\\\n",
    "  x_i s_i &=& 0, \\qquad i=1,2,...,n. & (5)\n",
    "\\end{array}\n",
    "$$\n",
    "\n",
    "Calcule los errores $E_x$ y $E_{s}$ como en el Ejercicio 1, para saber que tanto se violan las restricciones $\\mathbf{x}\\geq \\mathbf{0}$  y $\\mathbf{s}\\geq \\mathbf{0}$.\n",
    "\n",
    "La función debe imprimir \n",
    "- El error $\\|\\mathbf{A}^\\top \\mathbf{\\lambda} + \\mathbf{s}- \\mathbf{c}\\|$.\n",
    "- El error $\\|\\mathbf{A}\\mathbf{x} - \\mathbf{b}\\|$.\n",
    "- Si $E_x<\\tau$, imprima que se cumple las restricciones de no negatividad de $\\mathbf{x}$.\n",
    "- Si $E_s<\\tau$, imprima que se cumple las restricciones de no negatividad de $\\mathbf{s}$.\n",
    "- Calcule el valor de la suma $\\sum_i |x_i s_i|$ y si es menor que $\\tau$, imprima \n",
    "  un mensaje que indique que se cumple la condición de complementariedad.\n",
    "  \n",
    "6. Use la función anterior en el problema para reportar los resultados.\n",
    "\n",
    "\n",
    "> **Nota**: En el problema dual las variables en $\\lambda$ no tienen restricciones de cota. Si usa, por ejemplo, la función `linprog` para resolver el problema, ponga explícitamente que las cotas de las variables son $-\\infty$ e $\\infty$ para que la función no use las cotas que tiene fijas de manera predeterminada.\n",
    "\n",
    "## Solución:"
   ]
  },
  {
   "cell_type": "markdown",
   "id": "de789693",
   "metadata": {},
   "source": [
    "El problema dual del problema primal en forma estándar descrito en el Ejercicio 2 es \n",
    "$$\n",
    "\\min_{\\lambda}-\\mathbf{b}^T\\lambda\\quad\\text{  sujeto a  }\\quad \\mathbf{A}^T\\lambda\\leq \\mathbf{c},\n",
    "$$\n",
    "\n",
    "con $\\mathbf{A},\\mathbf{b}$ y $\\mathbf{c}$ como en el Ejercicio 2.\n",
    "\n",
    "Utilizamos la función `linprog` con los argumentos correspondientes las restricciones de desigualdad del tipo *menor o igual*. La solución al problema dual es la siguiente."
   ]
  },
  {
   "cell_type": "code",
   "execution_count": 5,
   "id": "1cd3ab01-0492-409c-b703-3ff137d4f251",
   "metadata": {},
   "outputs": [
    {
     "name": "stdout",
     "output_type": "stream",
     "text": [
      "\n",
      "Resultado del proceso: Optimization terminated successfully.\n",
      "Valor de la función objetivo: 51.24999999999999\n",
      "Solución:\n",
      " [-0.04166667  0.          1.08333333  0.        ]\n",
      "\n",
      "Variables de holgura:\n",
      " [-4.44089210e-16  0.00000000e+00  4.16666667e-02  0.00000000e+00\n",
      "  1.08333333e+00  0.00000000e+00]\n"
     ]
    }
   ],
   "source": [
    "# Coeficientes de la funcion objetivo\n",
    "c_dual = -b\n",
    "\n",
    "# Coeficientes del lado izquierdo de las desigualdades del tipo \"menor o igual a\"\n",
    "A_dual = A.T\n",
    "\n",
    "# Coeficientes del vector del lado derecho de las desigualdades del tipo \"menor o igual a\"\n",
    "b_dual = c\n",
    "\n",
    "# Cotas de las variables\n",
    "bnd = [(-scipy.inf, scipy.inf),  # cotas para lamb1\n",
    "       (-scipy.inf, scipy.inf),  # cotas para lamb2\n",
    "       (-scipy.inf, scipy.inf),  # cotas para lamb3\n",
    "       (-scipy.inf, scipy.inf)]  # cotas para lamb4\n",
    "\n",
    "opt_dual = linprog(c=c_dual, A_ub=A_dual, b_ub=b_dual, bounds=bnd,\n",
    "              method=\"simplex\")\n",
    "\n",
    "print('\\nResultado del proceso:', opt_dual.message)\n",
    "if opt_dual.success:\n",
    "    print('Valor de la función objetivo:', opt_dual.fun)\n",
    "    print('Solución:\\n', opt_dual.x)\n",
    "    print('\\nVariables de holgura:\\n', opt_dual.slack)"
   ]
  },
  {
   "cell_type": "markdown",
   "id": "16672251",
   "metadata": {},
   "source": [
    "Que coincide con la vectores de multiplicadores de Lagrange $\\lambda$ y $\\mathbf{s}$ que se obtuvieron en la Tarea 10 a partir de la solución del problema primal y las condiciones KKT.\n",
    "\n",
    "Por otro lado, por la relación existente entre el problema primal y su dual tienen el mismo valor para la función objetivo (considerando la función objetivo del problema dual correspondiente a una maximización).\n",
    "\n",
    "A continuación, mostramos el error relativo entre los valores óptimos hayados para el para el problema primal y el dual."
   ]
  },
  {
   "cell_type": "code",
   "execution_count": 6,
   "id": "70b49bb3",
   "metadata": {},
   "outputs": [
    {
     "name": "stdout",
     "output_type": "stream",
     "text": [
      "Error relativo entre las funciones objetivos del problema prima y dual es: \n",
      "1.38642485026361e-16\n"
     ]
    }
   ],
   "source": [
    "lamb=opt_dual.x  # Multiplicadores de Lagrange condiciones de igualdad.\n",
    "s=opt_dual.slack # Variables de holgura\n",
    "\n",
    "rel_err=np.abs(opt_eq.fun+opt_dual.fun)/np.abs(opt_eq.fun) # Error relativo\n",
    "\n",
    "print('Error relativo entre las funciones objetivos del problema prima y dual es: ')\n",
    "print(rel_err)"
   ]
  },
  {
   "cell_type": "markdown",
   "id": "58aa450a",
   "metadata": {},
   "source": [
    "Que es un valor pequeño y de hecho es más pequeño que la tolerancia $\\tau=\\sqrt{\\epsilon_m}$, por lo que podríamos afirmar que el valor óptimo de la función objetivo para el problema primal y dual es el mismo."
   ]
  },
  {
   "cell_type": "markdown",
   "id": "b7339535",
   "metadata": {},
   "source": [
    "Finalmente, prograremos la función que verificará las condiciones KKT con la solución del problema obtenida y las variables duales óptimas. Esta función quedará definida en el módulo `lib_t11` y llevará por nombre `KKT_cond`.\n",
    "\n",
    "Usamos esta última función para obtener los resultados solicitados"
   ]
  },
  {
   "cell_type": "code",
   "execution_count": 7,
   "id": "d7114392",
   "metadata": {},
   "outputs": [
    {
     "name": "stdout",
     "output_type": "stream",
     "text": [
      "Condicion 1: |AT*lamb+s-c| = 0.0\n",
      "Condicion 2: |Ax-b| =  3.552713678800501e-15\n",
      "SI se cumple la condicion de no negatividad de x\n",
      "SI se cumple la condicion de no negatividad de s\n",
      "SI se cumple la condicion de complentariedad\n"
     ]
    }
   ],
   "source": [
    "KKT_cond(tol,b,c,opt_eq.x,lamb,s,A)"
   ]
  },
  {
   "cell_type": "markdown",
   "id": "475a453d",
   "metadata": {},
   "source": [
    "De los resultados anterior concluimos que los valores hallados para el problema primal como el dual son óptimos de sus respectivos contextos."
   ]
  }
 ],
 "metadata": {
  "interpreter": {
   "hash": "31f2aee4e71d21fbe5cf8b01ff0e069b9275f58929596ceb00d14d90e3e16cd6"
  },
  "kernelspec": {
   "display_name": "Python 3.8.10 64-bit",
   "language": "python",
   "name": "python3"
  },
  "language_info": {
   "codemirror_mode": {
    "name": "ipython",
    "version": 3
   },
   "file_extension": ".py",
   "mimetype": "text/x-python",
   "name": "python",
   "nbconvert_exporter": "python",
   "pygments_lexer": "ipython3",
   "version": "3.8.10"
  }
 },
 "nbformat": 4,
 "nbformat_minor": 5
}
