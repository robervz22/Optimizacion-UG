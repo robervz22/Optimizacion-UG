{
 "cells": [
  {
   "cell_type": "markdown",
   "metadata": {},
   "source": [
    "# Ejercicio 1 (2 puntos)\n",
    "\n",
    "Programar las siguientes funciones y sus gradientes, de modo que dependan de la dimensión $n$ de la variable $\\mathbf{x}$:\n",
    "\n",
    "\n",
    "- Función \"Tridiagonal 1\" generalizada\n",
    "\n",
    "$$  f(x) = \\sum_{i=1}^{n-1} (x_i + x_{i+1} - 3)^2 + (x_i - x_{i+1} + 1)^4  $$\n",
    "\n",
    "\n",
    "- Función generalizada de Rosenbrock\n",
    "\n",
    "$$  f(x) = \\sum_{i=1}^{n-1} 100(x_{i+1} - x_i^2)^2 + (1 - x_{i} )^2  $$\n"
   ]
  },
  {
   "cell_type": "markdown",
   "metadata": {},
   "source": [
    "## Solución\n",
    "\n",
    "Sea $f_T$ la función tridiagonal generalizada y $f_R$ la función generalizada de Rosenbrock. Vamos a evaluar estas funciones en $\\mathbf{x}_\\ast=(1,1)$.\n",
    "\n",
    "Sabemos que $\\mathbf{x}_\\ast$ es punto crítico de $f_R$, además es el punto donde se alcanza el valor óptimo de la función para $n=2$ con $f_R(\\mathbf{x}_\\ast)=0$.\n",
    "\n",
    "Por otro lado, haciendo algunas cuentas vemos que $f_T(\\mathbf{x}_\\ast)=2$ mientras que $\\nabla f_T(\\mathbf{x}_\\ast)=[2,-6]^T$.\n",
    "\n",
    "A continuación, importamos el módulo `lib_t9` que contiene las implementaciones de $f_T$ y $f_R$, y probamos el desempeño de estas funciones con los valores teóricos en $\\mathbf{x}_\\ast=(1,1)$.\n",
    "\n",
    "En primer lugar, mostramos este desempeño con la función $f_T$"
   ]
  },
  {
   "cell_type": "code",
   "execution_count": 1,
   "metadata": {},
   "outputs": [
    {
     "name": "stdout",
     "output_type": "stream",
     "text": [
      "Valor de la funcion tridiagonal generalizada en (1,1):  2.0\n",
      "Valor del gradiente de la funcion tridiagonal generalizada en (1,1):  [[ 2.]\n",
      " [-6.]]\n"
     ]
    }
   ],
   "source": [
    "# Implementación de la funciones y sus gradientes\n",
    "import lib_t9\n",
    "import importlib\n",
    "importlib.reload(lib_t9)\n",
    "from lib_t9 import *\n",
    "\n",
    "# Punto de prueba\n",
    "x_proof=np.array([1.0,1.0])\n",
    "\n",
    "# Implementación de la función cuadrática y su gradiente\n",
    "print('Valor de la funcion tridiagonal generalizada en (1,1): ',tri_diag_gen(x_proof))\n",
    "print('Valor del gradiente de la funcion tridiagonal generalizada en (1,1): ',grad_tri_diag_gen(x_proof))"
   ]
  },
  {
   "cell_type": "markdown",
   "metadata": {},
   "source": [
    "Ahora mostramos el resultado de la prueba con la función generalizada de Rosenbrock sabiendo que $f_R(\\mathbf{x}_\\ast)=0$ y $\\nabla f_R(\\mathbf{x}_\\ast)=0$."
   ]
  },
  {
   "cell_type": "code",
   "execution_count": 2,
   "metadata": {},
   "outputs": [
    {
     "name": "stdout",
     "output_type": "stream",
     "text": [
      "Valor de la funcion generalizada de Rosenbrock en (1,1):  0.0\n",
      "Valor del gradiente de la funcion generalizada de Rosenbrock en (1,1):  [[-0.]\n",
      " [ 0.]]\n"
     ]
    }
   ],
   "source": [
    "#  Implementación de la función generalizada de Rosenbrock y su gradiente\n",
    "print('Valor de la funcion generalizada de Rosenbrock en (1,1): ',gen_rosenbrock(x_proof))\n",
    "print('Valor del gradiente de la funcion generalizada de Rosenbrock en (1,1): ',grad_gen_rosenbrock(x_proof))"
   ]
  },
  {
   "cell_type": "markdown",
   "metadata": {},
   "source": [
    "# Ejercicio 2 (8 puntos)\n",
    "\n",
    "Programar y probar el método BFGS modificado.\n",
    "\n",
    "\n",
    "1. Programar el algoritmo descrito en la diapositiva 16 de la clase 23.\n",
    "   Agregue una variable $res$ que indique si el algoritmo terminó\n",
    "   porque se cumplió que la magnitud del gradiente es menor que la toleracia\n",
    "   dada.\n",
    "2. Probar el algoritmo con las funciones del Ejercicio 1\n",
    "   con la matriz $H_0$ como la matriz identidad y el \n",
    "   punto inicial $x_0$ como:\n",
    "\n",
    "- La función generalizada de Rosenbrock: \n",
    "\n",
    "$$ x_0 = (-1.2, 1, -1.2, 1, ..., -1.2, 1) \\in \\mathbb{R}^n$$\n",
    "\n",
    "- La función Tridiagonal 1 generalizada: \n",
    "\n",
    "$$ x_0 = (2,2, ..., 2) \\in \\mathbb{R}^n $$\n",
    "  \n",
    "  Pruebe el algoritmo con la dimensión $n=2, 10 , 100$.\n",
    "\n",
    "3. Fije el número de iteraciones máximas a $N=50000$, \n",
    "   y la tolerancia $\\tau = \\epsilon_m^{1/3}$, donde $\\epsilon_m$\n",
    "   es el épsilon máquina, para terminar las iteraciones \n",
    "   si la magnitud del gradiente es menor que $\\tau$.\n",
    "   En cada caso, imprima los siguiente datos:\n",
    "   \n",
    "- $n$,\n",
    "- $f(x_0)$, \n",
    "- Usando la variable $res$, imprima un mensaje que indique si\n",
    "  el algoritmo convergió,\n",
    "- el  número $k$ de iteraciones realizadas,\n",
    "- $f(x_k)$,\n",
    "- la norma del vector $\\nabla f_k$, y\n",
    "- las primeras y últimas 4 entradas del punto $x_k$ que devuelve el algoritmo.\n",
    "  \n",
    "\n",
    "## Solución:\n",
    "\n",
    "Actualizamos el módulo con el que estamos trabajando, definimos la tolerancia, el número máximo de iteraciones y el parámetro $\\rho$ del algoritmo de backtracking usado en el algoritmo BFGS modificado\n"
   ]
  },
  {
   "cell_type": "code",
   "execution_count": 3,
   "metadata": {},
   "outputs": [],
   "source": [
    "importlib.reload(lib_t9)\n",
    "import lib_t9\n",
    "from lib_t9 import *\n",
    "\n",
    "# Tolerancia y numero maximo de iteraciones\n",
    "tol=np.finfo(float).eps**(1/3)\n",
    "N=50000\n",
    "rho=0.8"
   ]
  },
  {
   "cell_type": "markdown",
   "metadata": {},
   "source": [
    "### Función tridiagonal generalizada\n",
    "\n",
    "En primer lugar, probamos el algoritmo BFGS modificado con la función tridiagonal generalizada considerando $\\mathbf{x}_0 = (2,2, ..., 2) \\in \\mathbb{R}^n$ y $H_0=I_n$, la matriz identidad de tamaño $n$. Probamos el desempeño del algoritmo tomando $n=2,10,20$.\n",
    "\n",
    "Por otro lado, es fácil ver que el valor óptimo de $f_T$ es $0$ cuando $n=2$ y se obtiene cuando $\\mathbf{x}_\\ast =(1,2)$, por lo que esperaríamos que el algoritmo modificado BFGS devuelva un $\\mathbf{x}_k$ tal que $\\mathbf{x}_k\\approx (1,2)$ y $f_T(\\mathbf{x}_k)\\approx 0$ en el caso $n=2$."
   ]
  },
  {
   "cell_type": "code",
   "execution_count": 4,
   "metadata": {},
   "outputs": [
    {
     "name": "stdout",
     "output_type": "stream",
     "text": [
      "El algoritmo BFGS modificado CONVERGE\n",
      "n =  2\n",
      "f(x0) =  2.0\n",
      "xk =  [0.99876467 2.00123335]\n",
      "k =  7393\n",
      "fk =  4.1064152731323677e-11\n",
      "||gk|| =  5.60228141426502e-06\n",
      "\n",
      "\n",
      "\n",
      "El algoritmo BFGS modificado CONVERGE\n",
      "n =  10\n",
      "f(x0) =  18.0\n",
      "Primer y últimas 4 entradas de xk =  [1.02464688 1.34361035 1.438909   1.47645328] ... [1.5235467  1.56109099 1.65638968 1.97535343]\n",
      "k =  127\n",
      "fk =  7.211216703292454\n",
      "||gk|| =  5.196474138150162e-06\n",
      "\n",
      "\n",
      "\n",
      "El algoritmo BFGS modificado CONVERGE\n",
      "n =  20\n",
      "f(x0) =  38.0\n",
      "Primer y últimas 4 entradas de xk =  [1.02448171 1.34326076 1.43811813 1.47459086] ... [1.525409   1.56188173 1.65673913 1.97551812]\n",
      "k =  136\n",
      "fk =  17.21030764208769\n",
      "||gk|| =  5.326361788424597e-06\n",
      "\n",
      "\n",
      "\n"
     ]
    }
   ],
   "source": [
    "# Valores de n\n",
    "n=[2,10,20]\n",
    "# Paras para cada valor de n\n",
    "for nn in n:\n",
    "    x0=np.tile([2.0,2.0],int(nn/2))\n",
    "    proof_mod_BFGS(tri_diag_gen,grad_tri_diag_gen,x0,np.eye(len(x0)),N,tol,rho)\n",
    "    print('\\n\\n')"
   ]
  },
  {
   "cell_type": "markdown",
   "metadata": {},
   "source": [
    "### Función Generalizada de Rosenbrock\n",
    "\n",
    "Repetimos la prueba ahora con la función generalizada de Rosenbrock, sabiendo que el óptimo es $\\mathbf{x}_\\ast=(1,1,\\dots,1)$"
   ]
  },
  {
   "cell_type": "code",
   "execution_count": 5,
   "metadata": {},
   "outputs": [
    {
     "name": "stdout",
     "output_type": "stream",
     "text": [
      "El algoritmo BFGS modificado CONVERGE\n",
      "n =  2\n",
      "f(x0) =  24.199999999999996\n",
      "xk =  [1.00000018 1.00000035]\n",
      "k =  166\n",
      "fk =  4.635162933802175e-14\n",
      "||gk|| =  5.604968917022001e-06\n",
      "\n",
      "\n",
      "\n",
      "El algoritmo BFGS modificado CONVERGE\n",
      "n =  10\n",
      "f(x0) =  2057.0\n",
      "Primer y últimas 4 entradas de xk =  [-0.99326337  0.99660604  0.99824061  0.99898844] ... [0.99845421 0.99705631 0.99417947 0.98839282]\n",
      "k =  1083\n",
      "fk =  3.9865791123471817\n",
      "||gk|| =  5.5376405622437326e-06\n",
      "\n",
      "\n",
      "\n",
      "El algoritmo BFGS modificado CONVERGE\n",
      "n =  20\n",
      "f(x0) =  4598.0\n",
      "Primer y últimas 4 entradas de xk =  [1. 1. 1. 1.] ... [0.99999999 0.99999997 0.99999994 0.99999987]\n",
      "k =  1293\n",
      "fk =  2.8472052063727636e-14\n",
      "||gk|| =  5.9467552798446634e-06\n",
      "\n",
      "\n",
      "\n"
     ]
    }
   ],
   "source": [
    "# Valores de n\n",
    "n=[2,10,20]\n",
    "# Paras para cada valor de n\n",
    "for nn in n:\n",
    "    x0=np.tile([-1.2,1.0],int(nn/2))\n",
    "    proof_mod_BFGS(gen_rosenbrock,grad_gen_rosenbrock,x0,np.eye(len(x0)),N,tol,rho)\n",
    "    print('\\n\\n')"
   ]
  }
 ],
 "metadata": {
  "interpreter": {
   "hash": "31f2aee4e71d21fbe5cf8b01ff0e069b9275f58929596ceb00d14d90e3e16cd6"
  },
  "kernelspec": {
   "display_name": "Python 3.8.10 64-bit",
   "language": "python",
   "name": "python3"
  },
  "language_info": {
   "codemirror_mode": {
    "name": "ipython",
    "version": 3
   },
   "file_extension": ".py",
   "mimetype": "text/x-python",
   "name": "python",
   "nbconvert_exporter": "python",
   "pygments_lexer": "ipython3",
   "version": "3.8.10"
  }
 },
 "nbformat": 4,
 "nbformat_minor": 4
}
